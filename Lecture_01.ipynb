{
  "cells": [
    {
      "cell_type": "markdown",
      "metadata": {
        "id": "view-in-github",
        "colab_type": "text"
      },
      "source": [
        "<a href=\"https://colab.research.google.com/github/katrin2202/ML-in-forecasting-tasks/blob/main/Lecture_01.ipynb\" target=\"_parent\"><img src=\"https://colab.research.google.com/assets/colab-badge.svg\" alt=\"Open In Colab\"/></a>"
      ]
    },
    {
      "cell_type": "markdown",
      "metadata": {
        "id": "xw_U-zL0Gctd"
      },
      "source": [
        "Подключаем нужные библиотеки"
      ]
    },
    {
      "cell_type": "code",
      "execution_count": 1,
      "metadata": {
        "id": "oxlsiwfSTZDJ"
      },
      "outputs": [],
      "source": [
        "import pandas as pd\n",
        "import io\n",
        "import requests"
      ]
    },
    {
      "cell_type": "markdown",
      "metadata": {
        "id": "yw0vQyhiG0RH"
      },
      "source": [
        "Подтягиваем данные по таблице 2.1 Год вступления в организацию и текущий статус членства.\n",
        "\n",
        "*read_csv* - чтение файла csv. передаем ссылку на файл"
      ]
    },
    {
      "cell_type": "code",
      "execution_count": 3,
      "metadata": {
        "id": "1vMSRAChVdiM"
      },
      "outputs": [],
      "source": [
        "YearJoined = pd.read_csv(\"https://raw.githubusercontent.com/PracticalTimeSeriesAnalysis/BookRepo/master/Ch02/data/year_joined.csv\")"
      ]
    },
    {
      "cell_type": "markdown",
      "metadata": {
        "id": "0mvg09daH9Nl"
      },
      "source": [
        "Подтягиваем данные по таблице 2.2 Недельное количество писам, отправленных члену организации, которые были им открыты"
      ]
    },
    {
      "cell_type": "code",
      "execution_count": 4,
      "metadata": {
        "id": "DLHuM5PNVfGn"
      },
      "outputs": [],
      "source": [
        "emails = pd.read_csv(\"https://raw.githubusercontent.com/PracticalTimeSeriesAnalysis/BookRepo/master/Ch02/data/emails.csv\")"
      ]
    },
    {
      "cell_type": "markdown",
      "metadata": {
        "id": "NvBLoBoaIi6d"
      },
      "source": [
        "Подтягиваем данные по таблице 2.3 Данные о добровольных взносах"
      ]
    },
    {
      "cell_type": "code",
      "execution_count": 5,
      "metadata": {
        "id": "avoVAvx5VkuS"
      },
      "outputs": [],
      "source": [
        "donations = pd.read_csv(\"https://raw.githubusercontent.com/PracticalTimeSeriesAnalysis/BookRepo/master/Ch02/data/donations.csv\")"
      ]
    },
    {
      "cell_type": "markdown",
      "metadata": {
        "id": "CYVE71TLJBGP"
      },
      "source": [
        "Проверяем, есть ли у членов организации более одной записи. Видим что все 1000 членов имеют только 1 статус\n",
        "\n",
        "*groupby()* - используется для разделения и выделения некоторой части данных из целого набора данных на основе определенных предопределенных условий или параметров.\n",
        "\n",
        "*count()* - количество"
      ]
    },
    {
      "cell_type": "code",
      "execution_count": 7,
      "metadata": {
        "colab": {
          "base_uri": "https://localhost:8080/",
          "height": 112
        },
        "id": "NB1PnMsxVqlm",
        "outputId": "3dcc68ff-1cce-4912-b2b7-83aae6b28552"
      },
      "outputs": [
        {
          "output_type": "execute_result",
          "data": {
            "text/plain": [
              "           yearJoined\n",
              "userStats            \n",
              "1                1000"
            ],
            "text/html": [
              "\n",
              "  <div id=\"df-0fe07542-b21b-4886-bb94-2f8c4ca54752\">\n",
              "    <div class=\"colab-df-container\">\n",
              "      <div>\n",
              "<style scoped>\n",
              "    .dataframe tbody tr th:only-of-type {\n",
              "        vertical-align: middle;\n",
              "    }\n",
              "\n",
              "    .dataframe tbody tr th {\n",
              "        vertical-align: top;\n",
              "    }\n",
              "\n",
              "    .dataframe thead th {\n",
              "        text-align: right;\n",
              "    }\n",
              "</style>\n",
              "<table border=\"1\" class=\"dataframe\">\n",
              "  <thead>\n",
              "    <tr style=\"text-align: right;\">\n",
              "      <th></th>\n",
              "      <th>yearJoined</th>\n",
              "    </tr>\n",
              "    <tr>\n",
              "      <th>userStats</th>\n",
              "      <th></th>\n",
              "    </tr>\n",
              "  </thead>\n",
              "  <tbody>\n",
              "    <tr>\n",
              "      <th>1</th>\n",
              "      <td>1000</td>\n",
              "    </tr>\n",
              "  </tbody>\n",
              "</table>\n",
              "</div>\n",
              "      <button class=\"colab-df-convert\" onclick=\"convertToInteractive('df-0fe07542-b21b-4886-bb94-2f8c4ca54752')\"\n",
              "              title=\"Convert this dataframe to an interactive table.\"\n",
              "              style=\"display:none;\">\n",
              "        \n",
              "  <svg xmlns=\"http://www.w3.org/2000/svg\" height=\"24px\"viewBox=\"0 0 24 24\"\n",
              "       width=\"24px\">\n",
              "    <path d=\"M0 0h24v24H0V0z\" fill=\"none\"/>\n",
              "    <path d=\"M18.56 5.44l.94 2.06.94-2.06 2.06-.94-2.06-.94-.94-2.06-.94 2.06-2.06.94zm-11 1L8.5 8.5l.94-2.06 2.06-.94-2.06-.94L8.5 2.5l-.94 2.06-2.06.94zm10 10l.94 2.06.94-2.06 2.06-.94-2.06-.94-.94-2.06-.94 2.06-2.06.94z\"/><path d=\"M17.41 7.96l-1.37-1.37c-.4-.4-.92-.59-1.43-.59-.52 0-1.04.2-1.43.59L10.3 9.45l-7.72 7.72c-.78.78-.78 2.05 0 2.83L4 21.41c.39.39.9.59 1.41.59.51 0 1.02-.2 1.41-.59l7.78-7.78 2.81-2.81c.8-.78.8-2.07 0-2.86zM5.41 20L4 18.59l7.72-7.72 1.47 1.35L5.41 20z\"/>\n",
              "  </svg>\n",
              "      </button>\n",
              "      \n",
              "  <style>\n",
              "    .colab-df-container {\n",
              "      display:flex;\n",
              "      flex-wrap:wrap;\n",
              "      gap: 12px;\n",
              "    }\n",
              "\n",
              "    .colab-df-convert {\n",
              "      background-color: #E8F0FE;\n",
              "      border: none;\n",
              "      border-radius: 50%;\n",
              "      cursor: pointer;\n",
              "      display: none;\n",
              "      fill: #1967D2;\n",
              "      height: 32px;\n",
              "      padding: 0 0 0 0;\n",
              "      width: 32px;\n",
              "    }\n",
              "\n",
              "    .colab-df-convert:hover {\n",
              "      background-color: #E2EBFA;\n",
              "      box-shadow: 0px 1px 2px rgba(60, 64, 67, 0.3), 0px 1px 3px 1px rgba(60, 64, 67, 0.15);\n",
              "      fill: #174EA6;\n",
              "    }\n",
              "\n",
              "    [theme=dark] .colab-df-convert {\n",
              "      background-color: #3B4455;\n",
              "      fill: #D2E3FC;\n",
              "    }\n",
              "\n",
              "    [theme=dark] .colab-df-convert:hover {\n",
              "      background-color: #434B5C;\n",
              "      box-shadow: 0px 1px 3px 1px rgba(0, 0, 0, 0.15);\n",
              "      filter: drop-shadow(0px 1px 2px rgba(0, 0, 0, 0.3));\n",
              "      fill: #FFFFFF;\n",
              "    }\n",
              "  </style>\n",
              "\n",
              "      <script>\n",
              "        const buttonEl =\n",
              "          document.querySelector('#df-0fe07542-b21b-4886-bb94-2f8c4ca54752 button.colab-df-convert');\n",
              "        buttonEl.style.display =\n",
              "          google.colab.kernel.accessAllowed ? 'block' : 'none';\n",
              "\n",
              "        async function convertToInteractive(key) {\n",
              "          const element = document.querySelector('#df-0fe07542-b21b-4886-bb94-2f8c4ca54752');\n",
              "          const dataTable =\n",
              "            await google.colab.kernel.invokeFunction('convertToInteractive',\n",
              "                                                     [key], {});\n",
              "          if (!dataTable) return;\n",
              "\n",
              "          const docLinkHtml = 'Like what you see? Visit the ' +\n",
              "            '<a target=\"_blank\" href=https://colab.research.google.com/notebooks/data_table.ipynb>data table notebook</a>'\n",
              "            + ' to learn more about interactive tables.';\n",
              "          element.innerHTML = '';\n",
              "          dataTable['output_type'] = 'display_data';\n",
              "          await google.colab.output.renderOutput(dataTable, element);\n",
              "          const docLink = document.createElement('div');\n",
              "          docLink.innerHTML = docLinkHtml;\n",
              "          element.appendChild(docLink);\n",
              "        }\n",
              "      </script>\n",
              "    </div>\n",
              "  </div>\n",
              "  "
            ]
          },
          "metadata": {},
          "execution_count": 7
        }
      ],
      "source": [
        "# 55 page\n",
        "YearJoined.groupby('user').count().groupby('userStats').count()"
      ]
    },
    {
      "cell_type": "markdown",
      "metadata": {
        "id": "lbnURxmGKYyx"
      },
      "source": [
        "проверям на пустые от писем недели. видим что их таких нет, значит в эти недели письма не прходили"
      ]
    },
    {
      "cell_type": "code",
      "execution_count": 8,
      "metadata": {
        "colab": {
          "base_uri": "https://localhost:8080/",
          "height": 49
        },
        "id": "S5UPbT73V4le",
        "outputId": "6931abf1-a46d-4150-b253-edd9bc77f46d"
      },
      "outputs": [
        {
          "output_type": "execute_result",
          "data": {
            "text/plain": [
              "Empty DataFrame\n",
              "Columns: [emailsOpened, user, week]\n",
              "Index: []"
            ],
            "text/html": [
              "\n",
              "  <div id=\"df-2a1045cf-2a90-469c-8a0b-2852487dd4a1\">\n",
              "    <div class=\"colab-df-container\">\n",
              "      <div>\n",
              "<style scoped>\n",
              "    .dataframe tbody tr th:only-of-type {\n",
              "        vertical-align: middle;\n",
              "    }\n",
              "\n",
              "    .dataframe tbody tr th {\n",
              "        vertical-align: top;\n",
              "    }\n",
              "\n",
              "    .dataframe thead th {\n",
              "        text-align: right;\n",
              "    }\n",
              "</style>\n",
              "<table border=\"1\" class=\"dataframe\">\n",
              "  <thead>\n",
              "    <tr style=\"text-align: right;\">\n",
              "      <th></th>\n",
              "      <th>emailsOpened</th>\n",
              "      <th>user</th>\n",
              "      <th>week</th>\n",
              "    </tr>\n",
              "  </thead>\n",
              "  <tbody>\n",
              "  </tbody>\n",
              "</table>\n",
              "</div>\n",
              "      <button class=\"colab-df-convert\" onclick=\"convertToInteractive('df-2a1045cf-2a90-469c-8a0b-2852487dd4a1')\"\n",
              "              title=\"Convert this dataframe to an interactive table.\"\n",
              "              style=\"display:none;\">\n",
              "        \n",
              "  <svg xmlns=\"http://www.w3.org/2000/svg\" height=\"24px\"viewBox=\"0 0 24 24\"\n",
              "       width=\"24px\">\n",
              "    <path d=\"M0 0h24v24H0V0z\" fill=\"none\"/>\n",
              "    <path d=\"M18.56 5.44l.94 2.06.94-2.06 2.06-.94-2.06-.94-.94-2.06-.94 2.06-2.06.94zm-11 1L8.5 8.5l.94-2.06 2.06-.94-2.06-.94L8.5 2.5l-.94 2.06-2.06.94zm10 10l.94 2.06.94-2.06 2.06-.94-2.06-.94-.94-2.06-.94 2.06-2.06.94z\"/><path d=\"M17.41 7.96l-1.37-1.37c-.4-.4-.92-.59-1.43-.59-.52 0-1.04.2-1.43.59L10.3 9.45l-7.72 7.72c-.78.78-.78 2.05 0 2.83L4 21.41c.39.39.9.59 1.41.59.51 0 1.02-.2 1.41-.59l7.78-7.78 2.81-2.81c.8-.78.8-2.07 0-2.86zM5.41 20L4 18.59l7.72-7.72 1.47 1.35L5.41 20z\"/>\n",
              "  </svg>\n",
              "      </button>\n",
              "      \n",
              "  <style>\n",
              "    .colab-df-container {\n",
              "      display:flex;\n",
              "      flex-wrap:wrap;\n",
              "      gap: 12px;\n",
              "    }\n",
              "\n",
              "    .colab-df-convert {\n",
              "      background-color: #E8F0FE;\n",
              "      border: none;\n",
              "      border-radius: 50%;\n",
              "      cursor: pointer;\n",
              "      display: none;\n",
              "      fill: #1967D2;\n",
              "      height: 32px;\n",
              "      padding: 0 0 0 0;\n",
              "      width: 32px;\n",
              "    }\n",
              "\n",
              "    .colab-df-convert:hover {\n",
              "      background-color: #E2EBFA;\n",
              "      box-shadow: 0px 1px 2px rgba(60, 64, 67, 0.3), 0px 1px 3px 1px rgba(60, 64, 67, 0.15);\n",
              "      fill: #174EA6;\n",
              "    }\n",
              "\n",
              "    [theme=dark] .colab-df-convert {\n",
              "      background-color: #3B4455;\n",
              "      fill: #D2E3FC;\n",
              "    }\n",
              "\n",
              "    [theme=dark] .colab-df-convert:hover {\n",
              "      background-color: #434B5C;\n",
              "      box-shadow: 0px 1px 3px 1px rgba(0, 0, 0, 0.15);\n",
              "      filter: drop-shadow(0px 1px 2px rgba(0, 0, 0, 0.3));\n",
              "      fill: #FFFFFF;\n",
              "    }\n",
              "  </style>\n",
              "\n",
              "      <script>\n",
              "        const buttonEl =\n",
              "          document.querySelector('#df-2a1045cf-2a90-469c-8a0b-2852487dd4a1 button.colab-df-convert');\n",
              "        buttonEl.style.display =\n",
              "          google.colab.kernel.accessAllowed ? 'block' : 'none';\n",
              "\n",
              "        async function convertToInteractive(key) {\n",
              "          const element = document.querySelector('#df-2a1045cf-2a90-469c-8a0b-2852487dd4a1');\n",
              "          const dataTable =\n",
              "            await google.colab.kernel.invokeFunction('convertToInteractive',\n",
              "                                                     [key], {});\n",
              "          if (!dataTable) return;\n",
              "\n",
              "          const docLinkHtml = 'Like what you see? Visit the ' +\n",
              "            '<a target=\"_blank\" href=https://colab.research.google.com/notebooks/data_table.ipynb>data table notebook</a>'\n",
              "            + ' to learn more about interactive tables.';\n",
              "          element.innerHTML = '';\n",
              "          dataTable['output_type'] = 'display_data';\n",
              "          await google.colab.output.renderOutput(dataTable, element);\n",
              "          const docLink = document.createElement('div');\n",
              "          docLink.innerHTML = docLinkHtml;\n",
              "          element.appendChild(docLink);\n",
              "        }\n",
              "      </script>\n",
              "    </div>\n",
              "  </div>\n",
              "  "
            ]
          },
          "metadata": {},
          "execution_count": 8
        }
      ],
      "source": [
        "# 56 page\n",
        "emails[emails.emailsOpened < 1]"
      ]
    },
    {
      "cell_type": "markdown",
      "metadata": {
        "id": "4VvmRQa_KxZ8"
      },
      "source": [
        "Посмотрим работу с почтой пользователя 998 "
      ]
    },
    {
      "cell_type": "code",
      "execution_count": 9,
      "metadata": {
        "colab": {
          "base_uri": "https://localhost:8080/",
          "height": 802
        },
        "id": "lUX0jwoTWC_b",
        "outputId": "f0d7f6e1-cfdd-419c-e460-2fba7d167a20"
      },
      "outputs": [
        {
          "output_type": "execute_result",
          "data": {
            "text/plain": [
              "       emailsOpened   user                 week\n",
              "25464           1.0  998.0  2017-12-04 00:00:00\n",
              "25465           3.0  998.0  2017-12-11 00:00:00\n",
              "25466           3.0  998.0  2017-12-18 00:00:00\n",
              "25467           3.0  998.0  2018-01-01 00:00:00\n",
              "25468           3.0  998.0  2018-01-08 00:00:00\n",
              "25469           2.0  998.0  2018-01-15 00:00:00\n",
              "25470           3.0  998.0  2018-01-22 00:00:00\n",
              "25471           2.0  998.0  2018-01-29 00:00:00\n",
              "25472           3.0  998.0  2018-02-05 00:00:00\n",
              "25473           3.0  998.0  2018-02-12 00:00:00\n",
              "25474           3.0  998.0  2018-02-19 00:00:00\n",
              "25475           2.0  998.0  2018-02-26 00:00:00\n",
              "25476           2.0  998.0  2018-03-05 00:00:00\n",
              "25477           3.0  998.0  2018-03-12 00:00:00\n",
              "25478           2.0  998.0  2018-03-19 00:00:00\n",
              "25479           2.0  998.0  2018-03-26 00:00:00\n",
              "25480           3.0  998.0  2018-04-02 00:00:00\n",
              "25481           3.0  998.0  2018-04-09 00:00:00\n",
              "25482           3.0  998.0  2018-04-16 00:00:00\n",
              "25483           3.0  998.0  2018-04-30 00:00:00\n",
              "25484           3.0  998.0  2018-05-07 00:00:00\n",
              "25485           3.0  998.0  2018-05-14 00:00:00\n",
              "25486           3.0  998.0  2018-05-21 00:00:00\n",
              "25487           3.0  998.0  2018-05-28 00:00:00"
            ],
            "text/html": [
              "\n",
              "  <div id=\"df-0d3104b2-4bbc-44cb-ad57-2c5b4b71c731\">\n",
              "    <div class=\"colab-df-container\">\n",
              "      <div>\n",
              "<style scoped>\n",
              "    .dataframe tbody tr th:only-of-type {\n",
              "        vertical-align: middle;\n",
              "    }\n",
              "\n",
              "    .dataframe tbody tr th {\n",
              "        vertical-align: top;\n",
              "    }\n",
              "\n",
              "    .dataframe thead th {\n",
              "        text-align: right;\n",
              "    }\n",
              "</style>\n",
              "<table border=\"1\" class=\"dataframe\">\n",
              "  <thead>\n",
              "    <tr style=\"text-align: right;\">\n",
              "      <th></th>\n",
              "      <th>emailsOpened</th>\n",
              "      <th>user</th>\n",
              "      <th>week</th>\n",
              "    </tr>\n",
              "  </thead>\n",
              "  <tbody>\n",
              "    <tr>\n",
              "      <th>25464</th>\n",
              "      <td>1.0</td>\n",
              "      <td>998.0</td>\n",
              "      <td>2017-12-04 00:00:00</td>\n",
              "    </tr>\n",
              "    <tr>\n",
              "      <th>25465</th>\n",
              "      <td>3.0</td>\n",
              "      <td>998.0</td>\n",
              "      <td>2017-12-11 00:00:00</td>\n",
              "    </tr>\n",
              "    <tr>\n",
              "      <th>25466</th>\n",
              "      <td>3.0</td>\n",
              "      <td>998.0</td>\n",
              "      <td>2017-12-18 00:00:00</td>\n",
              "    </tr>\n",
              "    <tr>\n",
              "      <th>25467</th>\n",
              "      <td>3.0</td>\n",
              "      <td>998.0</td>\n",
              "      <td>2018-01-01 00:00:00</td>\n",
              "    </tr>\n",
              "    <tr>\n",
              "      <th>25468</th>\n",
              "      <td>3.0</td>\n",
              "      <td>998.0</td>\n",
              "      <td>2018-01-08 00:00:00</td>\n",
              "    </tr>\n",
              "    <tr>\n",
              "      <th>25469</th>\n",
              "      <td>2.0</td>\n",
              "      <td>998.0</td>\n",
              "      <td>2018-01-15 00:00:00</td>\n",
              "    </tr>\n",
              "    <tr>\n",
              "      <th>25470</th>\n",
              "      <td>3.0</td>\n",
              "      <td>998.0</td>\n",
              "      <td>2018-01-22 00:00:00</td>\n",
              "    </tr>\n",
              "    <tr>\n",
              "      <th>25471</th>\n",
              "      <td>2.0</td>\n",
              "      <td>998.0</td>\n",
              "      <td>2018-01-29 00:00:00</td>\n",
              "    </tr>\n",
              "    <tr>\n",
              "      <th>25472</th>\n",
              "      <td>3.0</td>\n",
              "      <td>998.0</td>\n",
              "      <td>2018-02-05 00:00:00</td>\n",
              "    </tr>\n",
              "    <tr>\n",
              "      <th>25473</th>\n",
              "      <td>3.0</td>\n",
              "      <td>998.0</td>\n",
              "      <td>2018-02-12 00:00:00</td>\n",
              "    </tr>\n",
              "    <tr>\n",
              "      <th>25474</th>\n",
              "      <td>3.0</td>\n",
              "      <td>998.0</td>\n",
              "      <td>2018-02-19 00:00:00</td>\n",
              "    </tr>\n",
              "    <tr>\n",
              "      <th>25475</th>\n",
              "      <td>2.0</td>\n",
              "      <td>998.0</td>\n",
              "      <td>2018-02-26 00:00:00</td>\n",
              "    </tr>\n",
              "    <tr>\n",
              "      <th>25476</th>\n",
              "      <td>2.0</td>\n",
              "      <td>998.0</td>\n",
              "      <td>2018-03-05 00:00:00</td>\n",
              "    </tr>\n",
              "    <tr>\n",
              "      <th>25477</th>\n",
              "      <td>3.0</td>\n",
              "      <td>998.0</td>\n",
              "      <td>2018-03-12 00:00:00</td>\n",
              "    </tr>\n",
              "    <tr>\n",
              "      <th>25478</th>\n",
              "      <td>2.0</td>\n",
              "      <td>998.0</td>\n",
              "      <td>2018-03-19 00:00:00</td>\n",
              "    </tr>\n",
              "    <tr>\n",
              "      <th>25479</th>\n",
              "      <td>2.0</td>\n",
              "      <td>998.0</td>\n",
              "      <td>2018-03-26 00:00:00</td>\n",
              "    </tr>\n",
              "    <tr>\n",
              "      <th>25480</th>\n",
              "      <td>3.0</td>\n",
              "      <td>998.0</td>\n",
              "      <td>2018-04-02 00:00:00</td>\n",
              "    </tr>\n",
              "    <tr>\n",
              "      <th>25481</th>\n",
              "      <td>3.0</td>\n",
              "      <td>998.0</td>\n",
              "      <td>2018-04-09 00:00:00</td>\n",
              "    </tr>\n",
              "    <tr>\n",
              "      <th>25482</th>\n",
              "      <td>3.0</td>\n",
              "      <td>998.0</td>\n",
              "      <td>2018-04-16 00:00:00</td>\n",
              "    </tr>\n",
              "    <tr>\n",
              "      <th>25483</th>\n",
              "      <td>3.0</td>\n",
              "      <td>998.0</td>\n",
              "      <td>2018-04-30 00:00:00</td>\n",
              "    </tr>\n",
              "    <tr>\n",
              "      <th>25484</th>\n",
              "      <td>3.0</td>\n",
              "      <td>998.0</td>\n",
              "      <td>2018-05-07 00:00:00</td>\n",
              "    </tr>\n",
              "    <tr>\n",
              "      <th>25485</th>\n",
              "      <td>3.0</td>\n",
              "      <td>998.0</td>\n",
              "      <td>2018-05-14 00:00:00</td>\n",
              "    </tr>\n",
              "    <tr>\n",
              "      <th>25486</th>\n",
              "      <td>3.0</td>\n",
              "      <td>998.0</td>\n",
              "      <td>2018-05-21 00:00:00</td>\n",
              "    </tr>\n",
              "    <tr>\n",
              "      <th>25487</th>\n",
              "      <td>3.0</td>\n",
              "      <td>998.0</td>\n",
              "      <td>2018-05-28 00:00:00</td>\n",
              "    </tr>\n",
              "  </tbody>\n",
              "</table>\n",
              "</div>\n",
              "      <button class=\"colab-df-convert\" onclick=\"convertToInteractive('df-0d3104b2-4bbc-44cb-ad57-2c5b4b71c731')\"\n",
              "              title=\"Convert this dataframe to an interactive table.\"\n",
              "              style=\"display:none;\">\n",
              "        \n",
              "  <svg xmlns=\"http://www.w3.org/2000/svg\" height=\"24px\"viewBox=\"0 0 24 24\"\n",
              "       width=\"24px\">\n",
              "    <path d=\"M0 0h24v24H0V0z\" fill=\"none\"/>\n",
              "    <path d=\"M18.56 5.44l.94 2.06.94-2.06 2.06-.94-2.06-.94-.94-2.06-.94 2.06-2.06.94zm-11 1L8.5 8.5l.94-2.06 2.06-.94-2.06-.94L8.5 2.5l-.94 2.06-2.06.94zm10 10l.94 2.06.94-2.06 2.06-.94-2.06-.94-.94-2.06-.94 2.06-2.06.94z\"/><path d=\"M17.41 7.96l-1.37-1.37c-.4-.4-.92-.59-1.43-.59-.52 0-1.04.2-1.43.59L10.3 9.45l-7.72 7.72c-.78.78-.78 2.05 0 2.83L4 21.41c.39.39.9.59 1.41.59.51 0 1.02-.2 1.41-.59l7.78-7.78 2.81-2.81c.8-.78.8-2.07 0-2.86zM5.41 20L4 18.59l7.72-7.72 1.47 1.35L5.41 20z\"/>\n",
              "  </svg>\n",
              "      </button>\n",
              "      \n",
              "  <style>\n",
              "    .colab-df-container {\n",
              "      display:flex;\n",
              "      flex-wrap:wrap;\n",
              "      gap: 12px;\n",
              "    }\n",
              "\n",
              "    .colab-df-convert {\n",
              "      background-color: #E8F0FE;\n",
              "      border: none;\n",
              "      border-radius: 50%;\n",
              "      cursor: pointer;\n",
              "      display: none;\n",
              "      fill: #1967D2;\n",
              "      height: 32px;\n",
              "      padding: 0 0 0 0;\n",
              "      width: 32px;\n",
              "    }\n",
              "\n",
              "    .colab-df-convert:hover {\n",
              "      background-color: #E2EBFA;\n",
              "      box-shadow: 0px 1px 2px rgba(60, 64, 67, 0.3), 0px 1px 3px 1px rgba(60, 64, 67, 0.15);\n",
              "      fill: #174EA6;\n",
              "    }\n",
              "\n",
              "    [theme=dark] .colab-df-convert {\n",
              "      background-color: #3B4455;\n",
              "      fill: #D2E3FC;\n",
              "    }\n",
              "\n",
              "    [theme=dark] .colab-df-convert:hover {\n",
              "      background-color: #434B5C;\n",
              "      box-shadow: 0px 1px 3px 1px rgba(0, 0, 0, 0.15);\n",
              "      filter: drop-shadow(0px 1px 2px rgba(0, 0, 0, 0.3));\n",
              "      fill: #FFFFFF;\n",
              "    }\n",
              "  </style>\n",
              "\n",
              "      <script>\n",
              "        const buttonEl =\n",
              "          document.querySelector('#df-0d3104b2-4bbc-44cb-ad57-2c5b4b71c731 button.colab-df-convert');\n",
              "        buttonEl.style.display =\n",
              "          google.colab.kernel.accessAllowed ? 'block' : 'none';\n",
              "\n",
              "        async function convertToInteractive(key) {\n",
              "          const element = document.querySelector('#df-0d3104b2-4bbc-44cb-ad57-2c5b4b71c731');\n",
              "          const dataTable =\n",
              "            await google.colab.kernel.invokeFunction('convertToInteractive',\n",
              "                                                     [key], {});\n",
              "          if (!dataTable) return;\n",
              "\n",
              "          const docLinkHtml = 'Like what you see? Visit the ' +\n",
              "            '<a target=\"_blank\" href=https://colab.research.google.com/notebooks/data_table.ipynb>data table notebook</a>'\n",
              "            + ' to learn more about interactive tables.';\n",
              "          element.innerHTML = '';\n",
              "          dataTable['output_type'] = 'display_data';\n",
              "          await google.colab.output.renderOutput(dataTable, element);\n",
              "          const docLink = document.createElement('div');\n",
              "          docLink.innerHTML = docLinkHtml;\n",
              "          element.appendChild(docLink);\n",
              "        }\n",
              "      </script>\n",
              "    </div>\n",
              "  </div>\n",
              "  "
            ]
          },
          "metadata": {},
          "execution_count": 9
        }
      ],
      "source": [
        "emails[emails.user == 998]"
      ]
    },
    {
      "cell_type": "markdown",
      "metadata": {
        "id": "DdDtDpGvL1MF"
      },
      "source": [
        "Заметим что не все недели года учтены. Посчитаем количество еженедельных наблюдений между первым и последним событием."
      ]
    },
    {
      "cell_type": "code",
      "execution_count": 10,
      "metadata": {
        "colab": {
          "base_uri": "https://localhost:8080/"
        },
        "id": "sMaJdMlFWGLF",
        "outputId": "9dc1c25c-62d9-41f0-c72e-a91ff921efb1"
      },
      "outputs": [
        {
          "output_type": "execute_result",
          "data": {
            "text/plain": [
              "25.0"
            ]
          },
          "metadata": {},
          "execution_count": 10
        }
      ],
      "source": [
        "#57 page\n",
        "(pd.to_datetime(max(emails[emails.user== 998].week))-pd.to_datetime(min(emails[emails.user==998].week))).days/7"
      ]
    },
    {
      "cell_type": "markdown",
      "metadata": {
        "id": "54Z9bz15NAmN"
      },
      "source": [
        "альтернативная реализация кода выше с использованием datetime"
      ]
    },
    {
      "cell_type": "code",
      "execution_count": 11,
      "metadata": {
        "colab": {
          "base_uri": "https://localhost:8080/"
        },
        "id": "-OzqKylNYaHc",
        "outputId": "0a41e92a-f896-4153-b359-b162aae326b1"
      },
      "outputs": [
        {
          "output_type": "execute_result",
          "data": {
            "text/plain": [
              "25.0"
            ]
          },
          "metadata": {},
          "execution_count": 11
        }
      ],
      "source": [
        "# 57 page\n",
        "import datetime\n",
        "date_time_str_max = max(emails[emails.user == 998].week)\n",
        "date_time_str_min = min(emails[emails.user == 998].week)\n",
        "\n",
        "date_time_obj_max = datetime.datetime.strptime(date_time_str_max, '%Y-%m-%d %H:%M:%S')\n",
        "date_time_obj_min = datetime.datetime.strptime(date_time_str_min, '%Y-%m-%d %H:%M:%S')\n",
        "\n",
        "(date_time_obj_max - date_time_obj_min).days/7"
      ]
    },
    {
      "cell_type": "markdown",
      "metadata": {
        "id": "K4iSMfgNMijg"
      },
      "source": [
        "а теперь посмотрим сколько недель зарегистрированных за работай"
      ]
    },
    {
      "cell_type": "code",
      "execution_count": 12,
      "metadata": {
        "colab": {
          "base_uri": "https://localhost:8080/"
        },
        "id": "0eAxx5ZCZSQO",
        "outputId": "507937fe-0176-4529-fec1-f9aa02471045"
      },
      "outputs": [
        {
          "output_type": "execute_result",
          "data": {
            "text/plain": [
              "(24, 3)"
            ]
          },
          "metadata": {},
          "execution_count": 12
        }
      ],
      "source": [
        "emails[emails.user == 998].shape"
      ]
    },
    {
      "cell_type": "markdown",
      "metadata": {
        "id": "o3rDhY_oNNrV"
      },
      "source": [
        "видим несоответствие получается всего 998 пользователь был 26 недель, но письма открывал только 24 недели."
      ]
    },
    {
      "cell_type": "markdown",
      "metadata": {
        "id": "sBtVQwNOOa3A"
      },
      "source": [
        "заполним недостающие недели с помощью Multiindex в Pandas. Для этого получим все комбинации недель и членов (декартово произведение). и теперь можем заполнить все недостающие нам недели"
      ]
    },
    {
      "cell_type": "code",
      "execution_count": 13,
      "metadata": {
        "colab": {
          "base_uri": "https://localhost:8080/"
        },
        "id": "x_5_lAfzZI92",
        "outputId": "da070553-8a3a-4798-9ad5-d8d38b7437fc"
      },
      "outputs": [
        {
          "output_type": "execute_result",
          "data": {
            "text/plain": [
              "MultiIndex([('2015-11-02 00:00:00',   1.0),\n",
              "            ('2015-11-02 00:00:00',   3.0),\n",
              "            ('2015-11-02 00:00:00',   5.0),\n",
              "            ('2015-11-02 00:00:00',   6.0),\n",
              "            ('2015-11-02 00:00:00',   9.0),\n",
              "            ('2015-11-02 00:00:00',  10.0),\n",
              "            ('2015-11-02 00:00:00',  14.0),\n",
              "            ('2015-11-02 00:00:00',  16.0),\n",
              "            ('2015-11-02 00:00:00',  20.0),\n",
              "            ('2015-11-02 00:00:00',  21.0),\n",
              "            ...\n",
              "            ('2017-05-15 00:00:00', 973.0),\n",
              "            ('2017-05-15 00:00:00', 977.0),\n",
              "            ('2017-05-15 00:00:00', 982.0),\n",
              "            ('2017-05-15 00:00:00', 984.0),\n",
              "            ('2017-05-15 00:00:00', 987.0),\n",
              "            ('2017-05-15 00:00:00', 991.0),\n",
              "            ('2017-05-15 00:00:00', 992.0),\n",
              "            ('2017-05-15 00:00:00', 993.0),\n",
              "            ('2017-05-15 00:00:00', 995.0),\n",
              "            ('2017-05-15 00:00:00', 998.0)],\n",
              "           length=93247)"
            ]
          },
          "metadata": {},
          "execution_count": 13
        }
      ],
      "source": [
        " # 58\n",
        "complete_idx = pd.MultiIndex.from_product((set(emails.week), set(emails.user)))\n",
        "complete_idx"
      ]
    },
    {
      "cell_type": "markdown",
      "metadata": {
        "id": "-z_1213WPNqZ"
      },
      "source": [
        "сбрасываем индекс, чтобы заносить информацию членах организаци и неделях отдельные столбцы, затем присваиваем имена этим столбцам."
      ]
    },
    {
      "cell_type": "code",
      "execution_count": 14,
      "metadata": {
        "id": "hJZgViiDZho0"
      },
      "outputs": [],
      "source": [
        "all_email = emails.set_index(['week', 'user']).reindex(complete_idx, fill_value=0).reset_index()\n",
        "all_email.columns = ['week', 'user', 'emailsOpened']"
      ]
    },
    {
      "cell_type": "markdown",
      "metadata": {
        "id": "9vbv9CSrP6qS"
      },
      "source": [
        "Проверям"
      ]
    },
    {
      "cell_type": "code",
      "execution_count": 15,
      "metadata": {
        "colab": {
          "base_uri": "https://localhost:8080/",
          "height": 424
        },
        "id": "ABHS-cOzZkre",
        "outputId": "fb9a618a-c170-4d5c-cb2f-7e475d5d60e8"
      },
      "outputs": [
        {
          "output_type": "execute_result",
          "data": {
            "text/plain": [
              "                      week   user  emailsOpened\n",
              "66296  2015-02-09 00:00:00  998.0           0.0\n",
              "58211  2015-02-16 00:00:00  998.0           0.0\n",
              "71147  2015-02-23 00:00:00  998.0           0.0\n",
              "14013  2015-03-02 00:00:00  998.0           0.0\n",
              "49587  2015-03-09 00:00:00  998.0           0.0\n",
              "...                    ...    ...           ...\n",
              "31261  2018-04-30 00:00:00  998.0           3.0\n",
              "3233   2018-05-07 00:00:00  998.0           3.0\n",
              "25871  2018-05-14 00:00:00  998.0           3.0\n",
              "63601  2018-05-21 00:00:00  998.0           3.0\n",
              "4850   2018-05-28 00:00:00  998.0           3.0\n",
              "\n",
              "[173 rows x 3 columns]"
            ],
            "text/html": [
              "\n",
              "  <div id=\"df-96bb3642-c618-4883-b692-7044f17a6d12\">\n",
              "    <div class=\"colab-df-container\">\n",
              "      <div>\n",
              "<style scoped>\n",
              "    .dataframe tbody tr th:only-of-type {\n",
              "        vertical-align: middle;\n",
              "    }\n",
              "\n",
              "    .dataframe tbody tr th {\n",
              "        vertical-align: top;\n",
              "    }\n",
              "\n",
              "    .dataframe thead th {\n",
              "        text-align: right;\n",
              "    }\n",
              "</style>\n",
              "<table border=\"1\" class=\"dataframe\">\n",
              "  <thead>\n",
              "    <tr style=\"text-align: right;\">\n",
              "      <th></th>\n",
              "      <th>week</th>\n",
              "      <th>user</th>\n",
              "      <th>emailsOpened</th>\n",
              "    </tr>\n",
              "  </thead>\n",
              "  <tbody>\n",
              "    <tr>\n",
              "      <th>66296</th>\n",
              "      <td>2015-02-09 00:00:00</td>\n",
              "      <td>998.0</td>\n",
              "      <td>0.0</td>\n",
              "    </tr>\n",
              "    <tr>\n",
              "      <th>58211</th>\n",
              "      <td>2015-02-16 00:00:00</td>\n",
              "      <td>998.0</td>\n",
              "      <td>0.0</td>\n",
              "    </tr>\n",
              "    <tr>\n",
              "      <th>71147</th>\n",
              "      <td>2015-02-23 00:00:00</td>\n",
              "      <td>998.0</td>\n",
              "      <td>0.0</td>\n",
              "    </tr>\n",
              "    <tr>\n",
              "      <th>14013</th>\n",
              "      <td>2015-03-02 00:00:00</td>\n",
              "      <td>998.0</td>\n",
              "      <td>0.0</td>\n",
              "    </tr>\n",
              "    <tr>\n",
              "      <th>49587</th>\n",
              "      <td>2015-03-09 00:00:00</td>\n",
              "      <td>998.0</td>\n",
              "      <td>0.0</td>\n",
              "    </tr>\n",
              "    <tr>\n",
              "      <th>...</th>\n",
              "      <td>...</td>\n",
              "      <td>...</td>\n",
              "      <td>...</td>\n",
              "    </tr>\n",
              "    <tr>\n",
              "      <th>31261</th>\n",
              "      <td>2018-04-30 00:00:00</td>\n",
              "      <td>998.0</td>\n",
              "      <td>3.0</td>\n",
              "    </tr>\n",
              "    <tr>\n",
              "      <th>3233</th>\n",
              "      <td>2018-05-07 00:00:00</td>\n",
              "      <td>998.0</td>\n",
              "      <td>3.0</td>\n",
              "    </tr>\n",
              "    <tr>\n",
              "      <th>25871</th>\n",
              "      <td>2018-05-14 00:00:00</td>\n",
              "      <td>998.0</td>\n",
              "      <td>3.0</td>\n",
              "    </tr>\n",
              "    <tr>\n",
              "      <th>63601</th>\n",
              "      <td>2018-05-21 00:00:00</td>\n",
              "      <td>998.0</td>\n",
              "      <td>3.0</td>\n",
              "    </tr>\n",
              "    <tr>\n",
              "      <th>4850</th>\n",
              "      <td>2018-05-28 00:00:00</td>\n",
              "      <td>998.0</td>\n",
              "      <td>3.0</td>\n",
              "    </tr>\n",
              "  </tbody>\n",
              "</table>\n",
              "<p>173 rows × 3 columns</p>\n",
              "</div>\n",
              "      <button class=\"colab-df-convert\" onclick=\"convertToInteractive('df-96bb3642-c618-4883-b692-7044f17a6d12')\"\n",
              "              title=\"Convert this dataframe to an interactive table.\"\n",
              "              style=\"display:none;\">\n",
              "        \n",
              "  <svg xmlns=\"http://www.w3.org/2000/svg\" height=\"24px\"viewBox=\"0 0 24 24\"\n",
              "       width=\"24px\">\n",
              "    <path d=\"M0 0h24v24H0V0z\" fill=\"none\"/>\n",
              "    <path d=\"M18.56 5.44l.94 2.06.94-2.06 2.06-.94-2.06-.94-.94-2.06-.94 2.06-2.06.94zm-11 1L8.5 8.5l.94-2.06 2.06-.94-2.06-.94L8.5 2.5l-.94 2.06-2.06.94zm10 10l.94 2.06.94-2.06 2.06-.94-2.06-.94-.94-2.06-.94 2.06-2.06.94z\"/><path d=\"M17.41 7.96l-1.37-1.37c-.4-.4-.92-.59-1.43-.59-.52 0-1.04.2-1.43.59L10.3 9.45l-7.72 7.72c-.78.78-.78 2.05 0 2.83L4 21.41c.39.39.9.59 1.41.59.51 0 1.02-.2 1.41-.59l7.78-7.78 2.81-2.81c.8-.78.8-2.07 0-2.86zM5.41 20L4 18.59l7.72-7.72 1.47 1.35L5.41 20z\"/>\n",
              "  </svg>\n",
              "      </button>\n",
              "      \n",
              "  <style>\n",
              "    .colab-df-container {\n",
              "      display:flex;\n",
              "      flex-wrap:wrap;\n",
              "      gap: 12px;\n",
              "    }\n",
              "\n",
              "    .colab-df-convert {\n",
              "      background-color: #E8F0FE;\n",
              "      border: none;\n",
              "      border-radius: 50%;\n",
              "      cursor: pointer;\n",
              "      display: none;\n",
              "      fill: #1967D2;\n",
              "      height: 32px;\n",
              "      padding: 0 0 0 0;\n",
              "      width: 32px;\n",
              "    }\n",
              "\n",
              "    .colab-df-convert:hover {\n",
              "      background-color: #E2EBFA;\n",
              "      box-shadow: 0px 1px 2px rgba(60, 64, 67, 0.3), 0px 1px 3px 1px rgba(60, 64, 67, 0.15);\n",
              "      fill: #174EA6;\n",
              "    }\n",
              "\n",
              "    [theme=dark] .colab-df-convert {\n",
              "      background-color: #3B4455;\n",
              "      fill: #D2E3FC;\n",
              "    }\n",
              "\n",
              "    [theme=dark] .colab-df-convert:hover {\n",
              "      background-color: #434B5C;\n",
              "      box-shadow: 0px 1px 3px 1px rgba(0, 0, 0, 0.15);\n",
              "      filter: drop-shadow(0px 1px 2px rgba(0, 0, 0, 0.3));\n",
              "      fill: #FFFFFF;\n",
              "    }\n",
              "  </style>\n",
              "\n",
              "      <script>\n",
              "        const buttonEl =\n",
              "          document.querySelector('#df-96bb3642-c618-4883-b692-7044f17a6d12 button.colab-df-convert');\n",
              "        buttonEl.style.display =\n",
              "          google.colab.kernel.accessAllowed ? 'block' : 'none';\n",
              "\n",
              "        async function convertToInteractive(key) {\n",
              "          const element = document.querySelector('#df-96bb3642-c618-4883-b692-7044f17a6d12');\n",
              "          const dataTable =\n",
              "            await google.colab.kernel.invokeFunction('convertToInteractive',\n",
              "                                                     [key], {});\n",
              "          if (!dataTable) return;\n",
              "\n",
              "          const docLinkHtml = 'Like what you see? Visit the ' +\n",
              "            '<a target=\"_blank\" href=https://colab.research.google.com/notebooks/data_table.ipynb>data table notebook</a>'\n",
              "            + ' to learn more about interactive tables.';\n",
              "          element.innerHTML = '';\n",
              "          dataTable['output_type'] = 'display_data';\n",
              "          await google.colab.output.renderOutput(dataTable, element);\n",
              "          const docLink = document.createElement('div');\n",
              "          docLink.innerHTML = docLinkHtml;\n",
              "          element.appendChild(docLink);\n",
              "        }\n",
              "      </script>\n",
              "    </div>\n",
              "  </div>\n",
              "  "
            ]
          },
          "metadata": {},
          "execution_count": 15
        }
      ],
      "source": [
        "all_email[all_email.user == 998].sort_values('week')"
      ]
    },
    {
      "cell_type": "markdown",
      "metadata": {
        "id": "rsJovCexQKt_"
      },
      "source": [
        "соберем таблицу где будет видны первая и последняя неделя прочитанного писем"
      ]
    },
    {
      "cell_type": "code",
      "execution_count": 16,
      "metadata": {
        "colab": {
          "base_uri": "https://localhost:8080/",
          "height": 424
        },
        "id": "omiuxIQVZo_U",
        "outputId": "290cb5f8-6a37-4662-d493-3eee8fa31edb"
      },
      "outputs": [
        {
          "output_type": "execute_result",
          "data": {
            "text/plain": [
              "     index   user                  min                  max\n",
              "0        0    1.0  2015-06-29 00:00:00  2018-05-28 00:00:00\n",
              "1        1    3.0  2018-03-05 00:00:00  2018-04-23 00:00:00\n",
              "2        2    5.0  2017-06-05 00:00:00  2018-05-28 00:00:00\n",
              "3        3    6.0  2016-12-05 00:00:00  2018-05-28 00:00:00\n",
              "4        4    9.0  2016-07-18 00:00:00  2018-05-28 00:00:00\n",
              "..     ...    ...                  ...                  ...\n",
              "534    534  991.0  2016-10-24 00:00:00  2016-10-24 00:00:00\n",
              "535    535  992.0  2015-02-09 00:00:00  2015-07-06 00:00:00\n",
              "536    536  993.0  2017-09-11 00:00:00  2018-05-28 00:00:00\n",
              "537    537  995.0  2016-09-05 00:00:00  2018-05-28 00:00:00\n",
              "538    538  998.0  2017-12-04 00:00:00  2018-05-28 00:00:00\n",
              "\n",
              "[539 rows x 4 columns]"
            ],
            "text/html": [
              "\n",
              "  <div id=\"df-7659fc53-2408-447f-bf18-fb00025f3198\">\n",
              "    <div class=\"colab-df-container\">\n",
              "      <div>\n",
              "<style scoped>\n",
              "    .dataframe tbody tr th:only-of-type {\n",
              "        vertical-align: middle;\n",
              "    }\n",
              "\n",
              "    .dataframe tbody tr th {\n",
              "        vertical-align: top;\n",
              "    }\n",
              "\n",
              "    .dataframe thead th {\n",
              "        text-align: right;\n",
              "    }\n",
              "</style>\n",
              "<table border=\"1\" class=\"dataframe\">\n",
              "  <thead>\n",
              "    <tr style=\"text-align: right;\">\n",
              "      <th></th>\n",
              "      <th>index</th>\n",
              "      <th>user</th>\n",
              "      <th>min</th>\n",
              "      <th>max</th>\n",
              "    </tr>\n",
              "  </thead>\n",
              "  <tbody>\n",
              "    <tr>\n",
              "      <th>0</th>\n",
              "      <td>0</td>\n",
              "      <td>1.0</td>\n",
              "      <td>2015-06-29 00:00:00</td>\n",
              "      <td>2018-05-28 00:00:00</td>\n",
              "    </tr>\n",
              "    <tr>\n",
              "      <th>1</th>\n",
              "      <td>1</td>\n",
              "      <td>3.0</td>\n",
              "      <td>2018-03-05 00:00:00</td>\n",
              "      <td>2018-04-23 00:00:00</td>\n",
              "    </tr>\n",
              "    <tr>\n",
              "      <th>2</th>\n",
              "      <td>2</td>\n",
              "      <td>5.0</td>\n",
              "      <td>2017-06-05 00:00:00</td>\n",
              "      <td>2018-05-28 00:00:00</td>\n",
              "    </tr>\n",
              "    <tr>\n",
              "      <th>3</th>\n",
              "      <td>3</td>\n",
              "      <td>6.0</td>\n",
              "      <td>2016-12-05 00:00:00</td>\n",
              "      <td>2018-05-28 00:00:00</td>\n",
              "    </tr>\n",
              "    <tr>\n",
              "      <th>4</th>\n",
              "      <td>4</td>\n",
              "      <td>9.0</td>\n",
              "      <td>2016-07-18 00:00:00</td>\n",
              "      <td>2018-05-28 00:00:00</td>\n",
              "    </tr>\n",
              "    <tr>\n",
              "      <th>...</th>\n",
              "      <td>...</td>\n",
              "      <td>...</td>\n",
              "      <td>...</td>\n",
              "      <td>...</td>\n",
              "    </tr>\n",
              "    <tr>\n",
              "      <th>534</th>\n",
              "      <td>534</td>\n",
              "      <td>991.0</td>\n",
              "      <td>2016-10-24 00:00:00</td>\n",
              "      <td>2016-10-24 00:00:00</td>\n",
              "    </tr>\n",
              "    <tr>\n",
              "      <th>535</th>\n",
              "      <td>535</td>\n",
              "      <td>992.0</td>\n",
              "      <td>2015-02-09 00:00:00</td>\n",
              "      <td>2015-07-06 00:00:00</td>\n",
              "    </tr>\n",
              "    <tr>\n",
              "      <th>536</th>\n",
              "      <td>536</td>\n",
              "      <td>993.0</td>\n",
              "      <td>2017-09-11 00:00:00</td>\n",
              "      <td>2018-05-28 00:00:00</td>\n",
              "    </tr>\n",
              "    <tr>\n",
              "      <th>537</th>\n",
              "      <td>537</td>\n",
              "      <td>995.0</td>\n",
              "      <td>2016-09-05 00:00:00</td>\n",
              "      <td>2018-05-28 00:00:00</td>\n",
              "    </tr>\n",
              "    <tr>\n",
              "      <th>538</th>\n",
              "      <td>538</td>\n",
              "      <td>998.0</td>\n",
              "      <td>2017-12-04 00:00:00</td>\n",
              "      <td>2018-05-28 00:00:00</td>\n",
              "    </tr>\n",
              "  </tbody>\n",
              "</table>\n",
              "<p>539 rows × 4 columns</p>\n",
              "</div>\n",
              "      <button class=\"colab-df-convert\" onclick=\"convertToInteractive('df-7659fc53-2408-447f-bf18-fb00025f3198')\"\n",
              "              title=\"Convert this dataframe to an interactive table.\"\n",
              "              style=\"display:none;\">\n",
              "        \n",
              "  <svg xmlns=\"http://www.w3.org/2000/svg\" height=\"24px\"viewBox=\"0 0 24 24\"\n",
              "       width=\"24px\">\n",
              "    <path d=\"M0 0h24v24H0V0z\" fill=\"none\"/>\n",
              "    <path d=\"M18.56 5.44l.94 2.06.94-2.06 2.06-.94-2.06-.94-.94-2.06-.94 2.06-2.06.94zm-11 1L8.5 8.5l.94-2.06 2.06-.94-2.06-.94L8.5 2.5l-.94 2.06-2.06.94zm10 10l.94 2.06.94-2.06 2.06-.94-2.06-.94-.94-2.06-.94 2.06-2.06.94z\"/><path d=\"M17.41 7.96l-1.37-1.37c-.4-.4-.92-.59-1.43-.59-.52 0-1.04.2-1.43.59L10.3 9.45l-7.72 7.72c-.78.78-.78 2.05 0 2.83L4 21.41c.39.39.9.59 1.41.59.51 0 1.02-.2 1.41-.59l7.78-7.78 2.81-2.81c.8-.78.8-2.07 0-2.86zM5.41 20L4 18.59l7.72-7.72 1.47 1.35L5.41 20z\"/>\n",
              "  </svg>\n",
              "      </button>\n",
              "      \n",
              "  <style>\n",
              "    .colab-df-container {\n",
              "      display:flex;\n",
              "      flex-wrap:wrap;\n",
              "      gap: 12px;\n",
              "    }\n",
              "\n",
              "    .colab-df-convert {\n",
              "      background-color: #E8F0FE;\n",
              "      border: none;\n",
              "      border-radius: 50%;\n",
              "      cursor: pointer;\n",
              "      display: none;\n",
              "      fill: #1967D2;\n",
              "      height: 32px;\n",
              "      padding: 0 0 0 0;\n",
              "      width: 32px;\n",
              "    }\n",
              "\n",
              "    .colab-df-convert:hover {\n",
              "      background-color: #E2EBFA;\n",
              "      box-shadow: 0px 1px 2px rgba(60, 64, 67, 0.3), 0px 1px 3px 1px rgba(60, 64, 67, 0.15);\n",
              "      fill: #174EA6;\n",
              "    }\n",
              "\n",
              "    [theme=dark] .colab-df-convert {\n",
              "      background-color: #3B4455;\n",
              "      fill: #D2E3FC;\n",
              "    }\n",
              "\n",
              "    [theme=dark] .colab-df-convert:hover {\n",
              "      background-color: #434B5C;\n",
              "      box-shadow: 0px 1px 3px 1px rgba(0, 0, 0, 0.15);\n",
              "      filter: drop-shadow(0px 1px 2px rgba(0, 0, 0, 0.3));\n",
              "      fill: #FFFFFF;\n",
              "    }\n",
              "  </style>\n",
              "\n",
              "      <script>\n",
              "        const buttonEl =\n",
              "          document.querySelector('#df-7659fc53-2408-447f-bf18-fb00025f3198 button.colab-df-convert');\n",
              "        buttonEl.style.display =\n",
              "          google.colab.kernel.accessAllowed ? 'block' : 'none';\n",
              "\n",
              "        async function convertToInteractive(key) {\n",
              "          const element = document.querySelector('#df-7659fc53-2408-447f-bf18-fb00025f3198');\n",
              "          const dataTable =\n",
              "            await google.colab.kernel.invokeFunction('convertToInteractive',\n",
              "                                                     [key], {});\n",
              "          if (!dataTable) return;\n",
              "\n",
              "          const docLinkHtml = 'Like what you see? Visit the ' +\n",
              "            '<a target=\"_blank\" href=https://colab.research.google.com/notebooks/data_table.ipynb>data table notebook</a>'\n",
              "            + ' to learn more about interactive tables.';\n",
              "          element.innerHTML = '';\n",
              "          dataTable['output_type'] = 'display_data';\n",
              "          await google.colab.output.renderOutput(dataTable, element);\n",
              "          const docLink = document.createElement('div');\n",
              "          docLink.innerHTML = docLinkHtml;\n",
              "          element.appendChild(docLink);\n",
              "        }\n",
              "      </script>\n",
              "    </div>\n",
              "  </div>\n",
              "  "
            ]
          },
          "metadata": {},
          "execution_count": 16
        }
      ],
      "source": [
        "# 59 page\n",
        "cutoff_dates = emails.groupby('user').week.agg(['min', 'max']).reset_index()\n",
        "cutoff_dates = cutoff_dates.reset_index()\n",
        "cutoff_dates"
      ]
    },
    {
      "cell_type": "markdown",
      "metadata": {
        "id": "qqv2q140QrO6"
      },
      "source": [
        "удалим для каждого пользователя все нулевые недели до первого и после последнего не нулевого значения"
      ]
    },
    {
      "cell_type": "code",
      "execution_count": 17,
      "metadata": {
        "id": "JGpQwUTXZ0iW"
      },
      "outputs": [],
      "source": [
        "import warnings\n",
        "warnings.filterwarnings('ignore')\n",
        "\n",
        "for _, row in cutoff_dates.iterrows():\n",
        "  user        = row['user']\n",
        "  start_date  = row['min']\n",
        "  end_date    = row['max']\n",
        "  all_email.drop(all_email[all_email.user == user][all_email.week < start_date].index, inplace=True)\n",
        "  all_email.drop(all_email[all_email.user == user][all_email.week > end_date].index, inplace=True)"
      ]
    },
    {
      "cell_type": "markdown",
      "metadata": {
        "id": "5vMRNc3yRM6y"
      },
      "source": [
        "Перестроим данные о взносах, превратим и их в недельные временные ряды."
      ]
    },
    {
      "cell_type": "code",
      "execution_count": 18,
      "metadata": {
        "id": "GUOL3As4Z6AW"
      },
      "outputs": [],
      "source": [
        "# 61 page\n",
        "donations.timestamp = pd.to_datetime(donations.timestamp)\n",
        "donations.set_index('timestamp', inplace=True)\n",
        "agg_don = donations.groupby('user').apply(lambda df: df.amount.resample(\"W-MON\").sum().dropna())"
      ]
    },
    {
      "cell_type": "markdown",
      "metadata": {
        "id": "s8DZNhKoSBp4"
      },
      "source": [
        "Посмотрим что получилось"
      ]
    },
    {
      "cell_type": "code",
      "execution_count": 19,
      "metadata": {
        "colab": {
          "base_uri": "https://localhost:8080/"
        },
        "id": "xJkw0UMxZ_9S",
        "outputId": "b37f4ffa-20fd-404f-bf5f-596849440481"
      },
      "outputs": [
        {
          "output_type": "execute_result",
          "data": {
            "text/plain": [
              "user   timestamp \n",
              "0.0    2015-03-30      25.0\n",
              "       2015-04-06       0.0\n",
              "       2015-04-13       0.0\n",
              "       2015-04-20       0.0\n",
              "       2015-04-27       0.0\n",
              "                      ...  \n",
              "995.0  2017-09-11       0.0\n",
              "       2017-09-18       0.0\n",
              "       2017-09-25       0.0\n",
              "       2017-10-02    1000.0\n",
              "998.0  2018-01-08      50.0\n",
              "Name: amount, Length: 32352, dtype: float64"
            ]
          },
          "metadata": {},
          "execution_count": 19
        }
      ],
      "source": [
        "agg_don"
      ]
    },
    {
      "cell_type": "markdown",
      "metadata": {
        "id": "IrAYTcqESLDa"
      },
      "source": [
        "Создадим сводную таблицу объединив таблицу с письмами и взновами по пользователю и неделе."
      ]
    },
    {
      "cell_type": "code",
      "execution_count": 20,
      "metadata": {
        "id": "VvyVVEFCaDgV"
      },
      "outputs": [],
      "source": [
        "#61 page\n",
        "merged_df = pd.DataFrame()\n",
        "\n",
        "for user, user_email in all_email.groupby('user'):\n",
        "  user_donations = agg_don[agg_don.index.get_level_values('user') == user]\n",
        "  \n",
        "  user_donations = user_donations.droplevel(0)\n",
        "  #user_donations.set_index('timestamp', inplace = True)  \n",
        "  user_email.set_index('week', inplace=True)\n",
        "\n",
        "  user_email = all_email[all_email.user == user]\n",
        "  user_email.sort_values('week', inplace=True)\n",
        "\n",
        "  df = pd.merge(user_email, user_donations, how='left', left_index=True, right_index=True)\n",
        "  df.fillna(0)\n",
        "\n",
        "  merged_df = merged_df.append(df.reset_index()[['user', 'week', 'emailsOpened', 'amount']])"
      ]
    },
    {
      "cell_type": "markdown",
      "metadata": {
        "id": "48f6E5WZSeuP"
      },
      "source": [
        "выведем начала общей таблицы"
      ]
    },
    {
      "cell_type": "code",
      "execution_count": 21,
      "metadata": {
        "colab": {
          "base_uri": "https://localhost:8080/",
          "height": 206
        },
        "id": "VTuQZnq1adBJ",
        "outputId": "e31f52da-1442-40d7-a4cb-90103f014d67"
      },
      "outputs": [
        {
          "output_type": "execute_result",
          "data": {
            "text/plain": [
              "   user                 week  emailsOpened  amount\n",
              "0   1.0  2015-06-29 00:00:00           3.0     NaN\n",
              "1   1.0  2015-07-06 00:00:00           0.0     NaN\n",
              "2   1.0  2015-07-13 00:00:00           2.0     NaN\n",
              "3   1.0  2015-07-20 00:00:00           2.0     NaN\n",
              "4   1.0  2015-07-27 00:00:00           3.0     NaN"
            ],
            "text/html": [
              "\n",
              "  <div id=\"df-7026afb1-43ec-48d7-949c-9e4238600022\">\n",
              "    <div class=\"colab-df-container\">\n",
              "      <div>\n",
              "<style scoped>\n",
              "    .dataframe tbody tr th:only-of-type {\n",
              "        vertical-align: middle;\n",
              "    }\n",
              "\n",
              "    .dataframe tbody tr th {\n",
              "        vertical-align: top;\n",
              "    }\n",
              "\n",
              "    .dataframe thead th {\n",
              "        text-align: right;\n",
              "    }\n",
              "</style>\n",
              "<table border=\"1\" class=\"dataframe\">\n",
              "  <thead>\n",
              "    <tr style=\"text-align: right;\">\n",
              "      <th></th>\n",
              "      <th>user</th>\n",
              "      <th>week</th>\n",
              "      <th>emailsOpened</th>\n",
              "      <th>amount</th>\n",
              "    </tr>\n",
              "  </thead>\n",
              "  <tbody>\n",
              "    <tr>\n",
              "      <th>0</th>\n",
              "      <td>1.0</td>\n",
              "      <td>2015-06-29 00:00:00</td>\n",
              "      <td>3.0</td>\n",
              "      <td>NaN</td>\n",
              "    </tr>\n",
              "    <tr>\n",
              "      <th>1</th>\n",
              "      <td>1.0</td>\n",
              "      <td>2015-07-06 00:00:00</td>\n",
              "      <td>0.0</td>\n",
              "      <td>NaN</td>\n",
              "    </tr>\n",
              "    <tr>\n",
              "      <th>2</th>\n",
              "      <td>1.0</td>\n",
              "      <td>2015-07-13 00:00:00</td>\n",
              "      <td>2.0</td>\n",
              "      <td>NaN</td>\n",
              "    </tr>\n",
              "    <tr>\n",
              "      <th>3</th>\n",
              "      <td>1.0</td>\n",
              "      <td>2015-07-20 00:00:00</td>\n",
              "      <td>2.0</td>\n",
              "      <td>NaN</td>\n",
              "    </tr>\n",
              "    <tr>\n",
              "      <th>4</th>\n",
              "      <td>1.0</td>\n",
              "      <td>2015-07-27 00:00:00</td>\n",
              "      <td>3.0</td>\n",
              "      <td>NaN</td>\n",
              "    </tr>\n",
              "  </tbody>\n",
              "</table>\n",
              "</div>\n",
              "      <button class=\"colab-df-convert\" onclick=\"convertToInteractive('df-7026afb1-43ec-48d7-949c-9e4238600022')\"\n",
              "              title=\"Convert this dataframe to an interactive table.\"\n",
              "              style=\"display:none;\">\n",
              "        \n",
              "  <svg xmlns=\"http://www.w3.org/2000/svg\" height=\"24px\"viewBox=\"0 0 24 24\"\n",
              "       width=\"24px\">\n",
              "    <path d=\"M0 0h24v24H0V0z\" fill=\"none\"/>\n",
              "    <path d=\"M18.56 5.44l.94 2.06.94-2.06 2.06-.94-2.06-.94-.94-2.06-.94 2.06-2.06.94zm-11 1L8.5 8.5l.94-2.06 2.06-.94-2.06-.94L8.5 2.5l-.94 2.06-2.06.94zm10 10l.94 2.06.94-2.06 2.06-.94-2.06-.94-.94-2.06-.94 2.06-2.06.94z\"/><path d=\"M17.41 7.96l-1.37-1.37c-.4-.4-.92-.59-1.43-.59-.52 0-1.04.2-1.43.59L10.3 9.45l-7.72 7.72c-.78.78-.78 2.05 0 2.83L4 21.41c.39.39.9.59 1.41.59.51 0 1.02-.2 1.41-.59l7.78-7.78 2.81-2.81c.8-.78.8-2.07 0-2.86zM5.41 20L4 18.59l7.72-7.72 1.47 1.35L5.41 20z\"/>\n",
              "  </svg>\n",
              "      </button>\n",
              "      \n",
              "  <style>\n",
              "    .colab-df-container {\n",
              "      display:flex;\n",
              "      flex-wrap:wrap;\n",
              "      gap: 12px;\n",
              "    }\n",
              "\n",
              "    .colab-df-convert {\n",
              "      background-color: #E8F0FE;\n",
              "      border: none;\n",
              "      border-radius: 50%;\n",
              "      cursor: pointer;\n",
              "      display: none;\n",
              "      fill: #1967D2;\n",
              "      height: 32px;\n",
              "      padding: 0 0 0 0;\n",
              "      width: 32px;\n",
              "    }\n",
              "\n",
              "    .colab-df-convert:hover {\n",
              "      background-color: #E2EBFA;\n",
              "      box-shadow: 0px 1px 2px rgba(60, 64, 67, 0.3), 0px 1px 3px 1px rgba(60, 64, 67, 0.15);\n",
              "      fill: #174EA6;\n",
              "    }\n",
              "\n",
              "    [theme=dark] .colab-df-convert {\n",
              "      background-color: #3B4455;\n",
              "      fill: #D2E3FC;\n",
              "    }\n",
              "\n",
              "    [theme=dark] .colab-df-convert:hover {\n",
              "      background-color: #434B5C;\n",
              "      box-shadow: 0px 1px 3px 1px rgba(0, 0, 0, 0.15);\n",
              "      filter: drop-shadow(0px 1px 2px rgba(0, 0, 0, 0.3));\n",
              "      fill: #FFFFFF;\n",
              "    }\n",
              "  </style>\n",
              "\n",
              "      <script>\n",
              "        const buttonEl =\n",
              "          document.querySelector('#df-7026afb1-43ec-48d7-949c-9e4238600022 button.colab-df-convert');\n",
              "        buttonEl.style.display =\n",
              "          google.colab.kernel.accessAllowed ? 'block' : 'none';\n",
              "\n",
              "        async function convertToInteractive(key) {\n",
              "          const element = document.querySelector('#df-7026afb1-43ec-48d7-949c-9e4238600022');\n",
              "          const dataTable =\n",
              "            await google.colab.kernel.invokeFunction('convertToInteractive',\n",
              "                                                     [key], {});\n",
              "          if (!dataTable) return;\n",
              "\n",
              "          const docLinkHtml = 'Like what you see? Visit the ' +\n",
              "            '<a target=\"_blank\" href=https://colab.research.google.com/notebooks/data_table.ipynb>data table notebook</a>'\n",
              "            + ' to learn more about interactive tables.';\n",
              "          element.innerHTML = '';\n",
              "          dataTable['output_type'] = 'display_data';\n",
              "          await google.colab.output.renderOutput(dataTable, element);\n",
              "          const docLink = document.createElement('div');\n",
              "          docLink.innerHTML = docLinkHtml;\n",
              "          element.appendChild(docLink);\n",
              "        }\n",
              "      </script>\n",
              "    </div>\n",
              "  </div>\n",
              "  "
            ]
          },
          "metadata": {},
          "execution_count": 21
        }
      ],
      "source": [
        "merged_df.head()"
      ]
    },
    {
      "cell_type": "markdown",
      "metadata": {
        "id": "1nC8En5pSi1A"
      },
      "source": [
        "мы будем смотреть зависимость взносов в следующей недели от тикущих открытых писем. для этого в новой столбце сдвинем все взносы на одну строку."
      ]
    },
    {
      "cell_type": "code",
      "execution_count": 22,
      "metadata": {
        "colab": {
          "base_uri": "https://localhost:8080/",
          "height": 363
        },
        "id": "Tim3Z8GyajSs",
        "outputId": "3f8d620b-fcf8-4182-cdf4-c846c63065a6"
      },
      "outputs": [
        {
          "output_type": "execute_result",
          "data": {
            "text/plain": [
              "    user                 week  emailsOpened  amount  target\n",
              "0  998.0  2017-12-04 00:00:00           1.0     0.0     0.0\n",
              "1  998.0  2017-12-11 00:00:00           3.0     0.0     0.0\n",
              "2  998.0  2017-12-18 00:00:00           3.0     0.0     0.0\n",
              "3  998.0  2017-12-25 00:00:00           0.0     0.0     0.0\n",
              "4  998.0  2018-01-01 00:00:00           3.0     0.0     0.0\n",
              "5  998.0  2018-01-08 00:00:00           3.0     0.0     0.0\n",
              "6  998.0  2018-01-15 00:00:00           2.0     0.0     0.0\n",
              "7  998.0  2018-01-22 00:00:00           3.0     0.0     0.0\n",
              "8  998.0  2018-01-29 00:00:00           2.0     0.0     0.0\n",
              "9  998.0  2018-02-05 00:00:00           3.0     0.0     0.0"
            ],
            "text/html": [
              "\n",
              "  <div id=\"df-5f8142a5-83f1-4e84-bf21-b126acf086d0\">\n",
              "    <div class=\"colab-df-container\">\n",
              "      <div>\n",
              "<style scoped>\n",
              "    .dataframe tbody tr th:only-of-type {\n",
              "        vertical-align: middle;\n",
              "    }\n",
              "\n",
              "    .dataframe tbody tr th {\n",
              "        vertical-align: top;\n",
              "    }\n",
              "\n",
              "    .dataframe thead th {\n",
              "        text-align: right;\n",
              "    }\n",
              "</style>\n",
              "<table border=\"1\" class=\"dataframe\">\n",
              "  <thead>\n",
              "    <tr style=\"text-align: right;\">\n",
              "      <th></th>\n",
              "      <th>user</th>\n",
              "      <th>week</th>\n",
              "      <th>emailsOpened</th>\n",
              "      <th>amount</th>\n",
              "      <th>target</th>\n",
              "    </tr>\n",
              "  </thead>\n",
              "  <tbody>\n",
              "    <tr>\n",
              "      <th>0</th>\n",
              "      <td>998.0</td>\n",
              "      <td>2017-12-04 00:00:00</td>\n",
              "      <td>1.0</td>\n",
              "      <td>0.0</td>\n",
              "      <td>0.0</td>\n",
              "    </tr>\n",
              "    <tr>\n",
              "      <th>1</th>\n",
              "      <td>998.0</td>\n",
              "      <td>2017-12-11 00:00:00</td>\n",
              "      <td>3.0</td>\n",
              "      <td>0.0</td>\n",
              "      <td>0.0</td>\n",
              "    </tr>\n",
              "    <tr>\n",
              "      <th>2</th>\n",
              "      <td>998.0</td>\n",
              "      <td>2017-12-18 00:00:00</td>\n",
              "      <td>3.0</td>\n",
              "      <td>0.0</td>\n",
              "      <td>0.0</td>\n",
              "    </tr>\n",
              "    <tr>\n",
              "      <th>3</th>\n",
              "      <td>998.0</td>\n",
              "      <td>2017-12-25 00:00:00</td>\n",
              "      <td>0.0</td>\n",
              "      <td>0.0</td>\n",
              "      <td>0.0</td>\n",
              "    </tr>\n",
              "    <tr>\n",
              "      <th>4</th>\n",
              "      <td>998.0</td>\n",
              "      <td>2018-01-01 00:00:00</td>\n",
              "      <td>3.0</td>\n",
              "      <td>0.0</td>\n",
              "      <td>0.0</td>\n",
              "    </tr>\n",
              "    <tr>\n",
              "      <th>5</th>\n",
              "      <td>998.0</td>\n",
              "      <td>2018-01-08 00:00:00</td>\n",
              "      <td>3.0</td>\n",
              "      <td>0.0</td>\n",
              "      <td>0.0</td>\n",
              "    </tr>\n",
              "    <tr>\n",
              "      <th>6</th>\n",
              "      <td>998.0</td>\n",
              "      <td>2018-01-15 00:00:00</td>\n",
              "      <td>2.0</td>\n",
              "      <td>0.0</td>\n",
              "      <td>0.0</td>\n",
              "    </tr>\n",
              "    <tr>\n",
              "      <th>7</th>\n",
              "      <td>998.0</td>\n",
              "      <td>2018-01-22 00:00:00</td>\n",
              "      <td>3.0</td>\n",
              "      <td>0.0</td>\n",
              "      <td>0.0</td>\n",
              "    </tr>\n",
              "    <tr>\n",
              "      <th>8</th>\n",
              "      <td>998.0</td>\n",
              "      <td>2018-01-29 00:00:00</td>\n",
              "      <td>2.0</td>\n",
              "      <td>0.0</td>\n",
              "      <td>0.0</td>\n",
              "    </tr>\n",
              "    <tr>\n",
              "      <th>9</th>\n",
              "      <td>998.0</td>\n",
              "      <td>2018-02-05 00:00:00</td>\n",
              "      <td>3.0</td>\n",
              "      <td>0.0</td>\n",
              "      <td>0.0</td>\n",
              "    </tr>\n",
              "  </tbody>\n",
              "</table>\n",
              "</div>\n",
              "      <button class=\"colab-df-convert\" onclick=\"convertToInteractive('df-5f8142a5-83f1-4e84-bf21-b126acf086d0')\"\n",
              "              title=\"Convert this dataframe to an interactive table.\"\n",
              "              style=\"display:none;\">\n",
              "        \n",
              "  <svg xmlns=\"http://www.w3.org/2000/svg\" height=\"24px\"viewBox=\"0 0 24 24\"\n",
              "       width=\"24px\">\n",
              "    <path d=\"M0 0h24v24H0V0z\" fill=\"none\"/>\n",
              "    <path d=\"M18.56 5.44l.94 2.06.94-2.06 2.06-.94-2.06-.94-.94-2.06-.94 2.06-2.06.94zm-11 1L8.5 8.5l.94-2.06 2.06-.94-2.06-.94L8.5 2.5l-.94 2.06-2.06.94zm10 10l.94 2.06.94-2.06 2.06-.94-2.06-.94-.94-2.06-.94 2.06-2.06.94z\"/><path d=\"M17.41 7.96l-1.37-1.37c-.4-.4-.92-.59-1.43-.59-.52 0-1.04.2-1.43.59L10.3 9.45l-7.72 7.72c-.78.78-.78 2.05 0 2.83L4 21.41c.39.39.9.59 1.41.59.51 0 1.02-.2 1.41-.59l7.78-7.78 2.81-2.81c.8-.78.8-2.07 0-2.86zM5.41 20L4 18.59l7.72-7.72 1.47 1.35L5.41 20z\"/>\n",
              "  </svg>\n",
              "      </button>\n",
              "      \n",
              "  <style>\n",
              "    .colab-df-container {\n",
              "      display:flex;\n",
              "      flex-wrap:wrap;\n",
              "      gap: 12px;\n",
              "    }\n",
              "\n",
              "    .colab-df-convert {\n",
              "      background-color: #E8F0FE;\n",
              "      border: none;\n",
              "      border-radius: 50%;\n",
              "      cursor: pointer;\n",
              "      display: none;\n",
              "      fill: #1967D2;\n",
              "      height: 32px;\n",
              "      padding: 0 0 0 0;\n",
              "      width: 32px;\n",
              "    }\n",
              "\n",
              "    .colab-df-convert:hover {\n",
              "      background-color: #E2EBFA;\n",
              "      box-shadow: 0px 1px 2px rgba(60, 64, 67, 0.3), 0px 1px 3px 1px rgba(60, 64, 67, 0.15);\n",
              "      fill: #174EA6;\n",
              "    }\n",
              "\n",
              "    [theme=dark] .colab-df-convert {\n",
              "      background-color: #3B4455;\n",
              "      fill: #D2E3FC;\n",
              "    }\n",
              "\n",
              "    [theme=dark] .colab-df-convert:hover {\n",
              "      background-color: #434B5C;\n",
              "      box-shadow: 0px 1px 3px 1px rgba(0, 0, 0, 0.15);\n",
              "      filter: drop-shadow(0px 1px 2px rgba(0, 0, 0, 0.3));\n",
              "      fill: #FFFFFF;\n",
              "    }\n",
              "  </style>\n",
              "\n",
              "      <script>\n",
              "        const buttonEl =\n",
              "          document.querySelector('#df-5f8142a5-83f1-4e84-bf21-b126acf086d0 button.colab-df-convert');\n",
              "        buttonEl.style.display =\n",
              "          google.colab.kernel.accessAllowed ? 'block' : 'none';\n",
              "\n",
              "        async function convertToInteractive(key) {\n",
              "          const element = document.querySelector('#df-5f8142a5-83f1-4e84-bf21-b126acf086d0');\n",
              "          const dataTable =\n",
              "            await google.colab.kernel.invokeFunction('convertToInteractive',\n",
              "                                                     [key], {});\n",
              "          if (!dataTable) return;\n",
              "\n",
              "          const docLinkHtml = 'Like what you see? Visit the ' +\n",
              "            '<a target=\"_blank\" href=https://colab.research.google.com/notebooks/data_table.ipynb>data table notebook</a>'\n",
              "            + ' to learn more about interactive tables.';\n",
              "          element.innerHTML = '';\n",
              "          dataTable['output_type'] = 'display_data';\n",
              "          await google.colab.output.renderOutput(dataTable, element);\n",
              "          const docLink = document.createElement('div');\n",
              "          docLink.innerHTML = docLinkHtml;\n",
              "          element.appendChild(docLink);\n",
              "        }\n",
              "      </script>\n",
              "    </div>\n",
              "  </div>\n",
              "  "
            ]
          },
          "metadata": {},
          "execution_count": 22
        }
      ],
      "source": [
        "#62 page\n",
        "df = merged_df[merged_df.user == 998]\n",
        "df['target'] = df.amount.shift(1)\n",
        "df = df.fillna(0)\n",
        "df.head(10)"
      ]
    },
    {
      "cell_type": "markdown",
      "metadata": {
        "id": "T8lXhjdUT0VI"
      },
      "source": []
    },
    {
      "cell_type": "code",
      "execution_count": 23,
      "metadata": {
        "id": "KNdgTjiEamu1"
      },
      "outputs": [],
      "source": [
        "# page 89\n",
        "air = pd.read_csv(\"https://raw.githubusercontent.com/PracticalTimeSeriesAnalysis/BookRepo/master/Ch02/data/AirPassengers.csv\",\n",
        "                  names=['Date','Passengers'])"
      ]
    },
    {
      "cell_type": "code",
      "execution_count": 24,
      "metadata": {
        "colab": {
          "base_uri": "https://localhost:8080/",
          "height": 424
        },
        "id": "TMykUtIxbHlp",
        "outputId": "4dadac38-1bbf-496b-f088-a95b9b9957f6"
      },
      "outputs": [
        {
          "output_type": "execute_result",
          "data": {
            "text/plain": [
              "        Date  Passengers\n",
              "0    1949-01         112\n",
              "1    1949-02         118\n",
              "2    1949-03         132\n",
              "3    1949-04         129\n",
              "4    1949-05         121\n",
              "..       ...         ...\n",
              "139  1960-08         606\n",
              "140  1960-09         508\n",
              "141  1960-10         461\n",
              "142  1960-11         390\n",
              "143  1960-12         432\n",
              "\n",
              "[144 rows x 2 columns]"
            ],
            "text/html": [
              "\n",
              "  <div id=\"df-f9f89638-eae7-41d3-8afd-102e4177808b\">\n",
              "    <div class=\"colab-df-container\">\n",
              "      <div>\n",
              "<style scoped>\n",
              "    .dataframe tbody tr th:only-of-type {\n",
              "        vertical-align: middle;\n",
              "    }\n",
              "\n",
              "    .dataframe tbody tr th {\n",
              "        vertical-align: top;\n",
              "    }\n",
              "\n",
              "    .dataframe thead th {\n",
              "        text-align: right;\n",
              "    }\n",
              "</style>\n",
              "<table border=\"1\" class=\"dataframe\">\n",
              "  <thead>\n",
              "    <tr style=\"text-align: right;\">\n",
              "      <th></th>\n",
              "      <th>Date</th>\n",
              "      <th>Passengers</th>\n",
              "    </tr>\n",
              "  </thead>\n",
              "  <tbody>\n",
              "    <tr>\n",
              "      <th>0</th>\n",
              "      <td>1949-01</td>\n",
              "      <td>112</td>\n",
              "    </tr>\n",
              "    <tr>\n",
              "      <th>1</th>\n",
              "      <td>1949-02</td>\n",
              "      <td>118</td>\n",
              "    </tr>\n",
              "    <tr>\n",
              "      <th>2</th>\n",
              "      <td>1949-03</td>\n",
              "      <td>132</td>\n",
              "    </tr>\n",
              "    <tr>\n",
              "      <th>3</th>\n",
              "      <td>1949-04</td>\n",
              "      <td>129</td>\n",
              "    </tr>\n",
              "    <tr>\n",
              "      <th>4</th>\n",
              "      <td>1949-05</td>\n",
              "      <td>121</td>\n",
              "    </tr>\n",
              "    <tr>\n",
              "      <th>...</th>\n",
              "      <td>...</td>\n",
              "      <td>...</td>\n",
              "    </tr>\n",
              "    <tr>\n",
              "      <th>139</th>\n",
              "      <td>1960-08</td>\n",
              "      <td>606</td>\n",
              "    </tr>\n",
              "    <tr>\n",
              "      <th>140</th>\n",
              "      <td>1960-09</td>\n",
              "      <td>508</td>\n",
              "    </tr>\n",
              "    <tr>\n",
              "      <th>141</th>\n",
              "      <td>1960-10</td>\n",
              "      <td>461</td>\n",
              "    </tr>\n",
              "    <tr>\n",
              "      <th>142</th>\n",
              "      <td>1960-11</td>\n",
              "      <td>390</td>\n",
              "    </tr>\n",
              "    <tr>\n",
              "      <th>143</th>\n",
              "      <td>1960-12</td>\n",
              "      <td>432</td>\n",
              "    </tr>\n",
              "  </tbody>\n",
              "</table>\n",
              "<p>144 rows × 2 columns</p>\n",
              "</div>\n",
              "      <button class=\"colab-df-convert\" onclick=\"convertToInteractive('df-f9f89638-eae7-41d3-8afd-102e4177808b')\"\n",
              "              title=\"Convert this dataframe to an interactive table.\"\n",
              "              style=\"display:none;\">\n",
              "        \n",
              "  <svg xmlns=\"http://www.w3.org/2000/svg\" height=\"24px\"viewBox=\"0 0 24 24\"\n",
              "       width=\"24px\">\n",
              "    <path d=\"M0 0h24v24H0V0z\" fill=\"none\"/>\n",
              "    <path d=\"M18.56 5.44l.94 2.06.94-2.06 2.06-.94-2.06-.94-.94-2.06-.94 2.06-2.06.94zm-11 1L8.5 8.5l.94-2.06 2.06-.94-2.06-.94L8.5 2.5l-.94 2.06-2.06.94zm10 10l.94 2.06.94-2.06 2.06-.94-2.06-.94-.94-2.06-.94 2.06-2.06.94z\"/><path d=\"M17.41 7.96l-1.37-1.37c-.4-.4-.92-.59-1.43-.59-.52 0-1.04.2-1.43.59L10.3 9.45l-7.72 7.72c-.78.78-.78 2.05 0 2.83L4 21.41c.39.39.9.59 1.41.59.51 0 1.02-.2 1.41-.59l7.78-7.78 2.81-2.81c.8-.78.8-2.07 0-2.86zM5.41 20L4 18.59l7.72-7.72 1.47 1.35L5.41 20z\"/>\n",
              "  </svg>\n",
              "      </button>\n",
              "      \n",
              "  <style>\n",
              "    .colab-df-container {\n",
              "      display:flex;\n",
              "      flex-wrap:wrap;\n",
              "      gap: 12px;\n",
              "    }\n",
              "\n",
              "    .colab-df-convert {\n",
              "      background-color: #E8F0FE;\n",
              "      border: none;\n",
              "      border-radius: 50%;\n",
              "      cursor: pointer;\n",
              "      display: none;\n",
              "      fill: #1967D2;\n",
              "      height: 32px;\n",
              "      padding: 0 0 0 0;\n",
              "      width: 32px;\n",
              "    }\n",
              "\n",
              "    .colab-df-convert:hover {\n",
              "      background-color: #E2EBFA;\n",
              "      box-shadow: 0px 1px 2px rgba(60, 64, 67, 0.3), 0px 1px 3px 1px rgba(60, 64, 67, 0.15);\n",
              "      fill: #174EA6;\n",
              "    }\n",
              "\n",
              "    [theme=dark] .colab-df-convert {\n",
              "      background-color: #3B4455;\n",
              "      fill: #D2E3FC;\n",
              "    }\n",
              "\n",
              "    [theme=dark] .colab-df-convert:hover {\n",
              "      background-color: #434B5C;\n",
              "      box-shadow: 0px 1px 3px 1px rgba(0, 0, 0, 0.15);\n",
              "      filter: drop-shadow(0px 1px 2px rgba(0, 0, 0, 0.3));\n",
              "      fill: #FFFFFF;\n",
              "    }\n",
              "  </style>\n",
              "\n",
              "      <script>\n",
              "        const buttonEl =\n",
              "          document.querySelector('#df-f9f89638-eae7-41d3-8afd-102e4177808b button.colab-df-convert');\n",
              "        buttonEl.style.display =\n",
              "          google.colab.kernel.accessAllowed ? 'block' : 'none';\n",
              "\n",
              "        async function convertToInteractive(key) {\n",
              "          const element = document.querySelector('#df-f9f89638-eae7-41d3-8afd-102e4177808b');\n",
              "          const dataTable =\n",
              "            await google.colab.kernel.invokeFunction('convertToInteractive',\n",
              "                                                     [key], {});\n",
              "          if (!dataTable) return;\n",
              "\n",
              "          const docLinkHtml = 'Like what you see? Visit the ' +\n",
              "            '<a target=\"_blank\" href=https://colab.research.google.com/notebooks/data_table.ipynb>data table notebook</a>'\n",
              "            + ' to learn more about interactive tables.';\n",
              "          element.innerHTML = '';\n",
              "          dataTable['output_type'] = 'display_data';\n",
              "          await google.colab.output.renderOutput(dataTable, element);\n",
              "          const docLink = document.createElement('div');\n",
              "          docLink.innerHTML = docLinkHtml;\n",
              "          element.appendChild(docLink);\n",
              "        }\n",
              "      </script>\n",
              "    </div>\n",
              "  </div>\n",
              "  "
            ]
          },
          "metadata": {},
          "execution_count": 24
        }
      ],
      "source": [
        "air"
      ]
    },
    {
      "cell_type": "markdown",
      "source": [
        "Для сглаживания данных о количестве перевозимых пассажиров применяется функция ewma() пакета Pandas, в которой учитываются разные парметры затухания\n",
        "\n",
        "###Python"
      ],
      "metadata": {
        "id": "dqVEEBS73Qf9"
      }
    },
    {
      "cell_type": "code",
      "execution_count": 25,
      "metadata": {
        "id": "TVHWeJnabKya"
      },
      "outputs": [],
      "source": [
        "#89 page\n",
        "air['Smooth.5'] = air.ewm(alpha = .5).Passengers.mean()\n",
        "air['Smooth.9'] = air.ewm(alpha = .9).Passengers.mean()"
      ]
    },
    {
      "cell_type": "markdown",
      "source": [
        "Легко заметить, что значение параметра ***alpha***, определяющего ***коэффициент сглаживания***, показывает, насколько сильно изменилось значение до его текущей величины по сравнени. с вычисленным средним значением. Чем больше значение ***alpha***, тем сильнее приближение к текущей величине. Заметьте, что функции сглаживания библиотеки ***Pandas*** принимают несколько параметров, подставляемых в одну и ту же расчетную формулу, но задающих несколько способов интерпретации экспоненциального скользящего среднего(1).\n",
        "\n",
        "\n",
        "---\n",
        "(1)В реляционных баззах данных информация традиционно хранится в таблицах. Например, для представления сведений о транзакциях клиентов в такую базу данных обычно добавляются таблица с полной информацией о клиентах, включая уникальный идентификатор, и таблица с данными транзакций, в которой одно из полей отводится для хранения идентификаторов клиентов."
      ],
      "metadata": {
        "id": "5K4enfQI6KbS"
      }
    },
    {
      "cell_type": "code",
      "execution_count": 26,
      "metadata": {
        "colab": {
          "base_uri": "https://localhost:8080/",
          "height": 424
        },
        "id": "ikl6ad3AbUGw",
        "outputId": "035f189b-cd9a-4875-c2da-56d71f5182fb"
      },
      "outputs": [
        {
          "output_type": "execute_result",
          "data": {
            "text/plain": [
              "        Date  Passengers    Smooth.5    Smooth.9\n",
              "0    1949-01         112  112.000000  112.000000\n",
              "1    1949-02         118  116.000000  117.454545\n",
              "2    1949-03         132  125.142857  130.558559\n",
              "3    1949-04         129  127.200000  129.155716\n",
              "4    1949-05         121  124.000000  121.815498\n",
              "..       ...         ...         ...         ...\n",
              "139  1960-08         606  582.096411  606.665454\n",
              "140  1960-09         508  545.048205  517.866545\n",
              "141  1960-10         461  503.024103  466.686655\n",
              "142  1960-11         390  446.512051  397.668665\n",
              "143  1960-12         432  439.256026  428.566867\n",
              "\n",
              "[144 rows x 4 columns]"
            ],
            "text/html": [
              "\n",
              "  <div id=\"df-3abfea21-65a3-49e0-a754-de7d163c497c\">\n",
              "    <div class=\"colab-df-container\">\n",
              "      <div>\n",
              "<style scoped>\n",
              "    .dataframe tbody tr th:only-of-type {\n",
              "        vertical-align: middle;\n",
              "    }\n",
              "\n",
              "    .dataframe tbody tr th {\n",
              "        vertical-align: top;\n",
              "    }\n",
              "\n",
              "    .dataframe thead th {\n",
              "        text-align: right;\n",
              "    }\n",
              "</style>\n",
              "<table border=\"1\" class=\"dataframe\">\n",
              "  <thead>\n",
              "    <tr style=\"text-align: right;\">\n",
              "      <th></th>\n",
              "      <th>Date</th>\n",
              "      <th>Passengers</th>\n",
              "      <th>Smooth.5</th>\n",
              "      <th>Smooth.9</th>\n",
              "    </tr>\n",
              "  </thead>\n",
              "  <tbody>\n",
              "    <tr>\n",
              "      <th>0</th>\n",
              "      <td>1949-01</td>\n",
              "      <td>112</td>\n",
              "      <td>112.000000</td>\n",
              "      <td>112.000000</td>\n",
              "    </tr>\n",
              "    <tr>\n",
              "      <th>1</th>\n",
              "      <td>1949-02</td>\n",
              "      <td>118</td>\n",
              "      <td>116.000000</td>\n",
              "      <td>117.454545</td>\n",
              "    </tr>\n",
              "    <tr>\n",
              "      <th>2</th>\n",
              "      <td>1949-03</td>\n",
              "      <td>132</td>\n",
              "      <td>125.142857</td>\n",
              "      <td>130.558559</td>\n",
              "    </tr>\n",
              "    <tr>\n",
              "      <th>3</th>\n",
              "      <td>1949-04</td>\n",
              "      <td>129</td>\n",
              "      <td>127.200000</td>\n",
              "      <td>129.155716</td>\n",
              "    </tr>\n",
              "    <tr>\n",
              "      <th>4</th>\n",
              "      <td>1949-05</td>\n",
              "      <td>121</td>\n",
              "      <td>124.000000</td>\n",
              "      <td>121.815498</td>\n",
              "    </tr>\n",
              "    <tr>\n",
              "      <th>...</th>\n",
              "      <td>...</td>\n",
              "      <td>...</td>\n",
              "      <td>...</td>\n",
              "      <td>...</td>\n",
              "    </tr>\n",
              "    <tr>\n",
              "      <th>139</th>\n",
              "      <td>1960-08</td>\n",
              "      <td>606</td>\n",
              "      <td>582.096411</td>\n",
              "      <td>606.665454</td>\n",
              "    </tr>\n",
              "    <tr>\n",
              "      <th>140</th>\n",
              "      <td>1960-09</td>\n",
              "      <td>508</td>\n",
              "      <td>545.048205</td>\n",
              "      <td>517.866545</td>\n",
              "    </tr>\n",
              "    <tr>\n",
              "      <th>141</th>\n",
              "      <td>1960-10</td>\n",
              "      <td>461</td>\n",
              "      <td>503.024103</td>\n",
              "      <td>466.686655</td>\n",
              "    </tr>\n",
              "    <tr>\n",
              "      <th>142</th>\n",
              "      <td>1960-11</td>\n",
              "      <td>390</td>\n",
              "      <td>446.512051</td>\n",
              "      <td>397.668665</td>\n",
              "    </tr>\n",
              "    <tr>\n",
              "      <th>143</th>\n",
              "      <td>1960-12</td>\n",
              "      <td>432</td>\n",
              "      <td>439.256026</td>\n",
              "      <td>428.566867</td>\n",
              "    </tr>\n",
              "  </tbody>\n",
              "</table>\n",
              "<p>144 rows × 4 columns</p>\n",
              "</div>\n",
              "      <button class=\"colab-df-convert\" onclick=\"convertToInteractive('df-3abfea21-65a3-49e0-a754-de7d163c497c')\"\n",
              "              title=\"Convert this dataframe to an interactive table.\"\n",
              "              style=\"display:none;\">\n",
              "        \n",
              "  <svg xmlns=\"http://www.w3.org/2000/svg\" height=\"24px\"viewBox=\"0 0 24 24\"\n",
              "       width=\"24px\">\n",
              "    <path d=\"M0 0h24v24H0V0z\" fill=\"none\"/>\n",
              "    <path d=\"M18.56 5.44l.94 2.06.94-2.06 2.06-.94-2.06-.94-.94-2.06-.94 2.06-2.06.94zm-11 1L8.5 8.5l.94-2.06 2.06-.94-2.06-.94L8.5 2.5l-.94 2.06-2.06.94zm10 10l.94 2.06.94-2.06 2.06-.94-2.06-.94-.94-2.06-.94 2.06-2.06.94z\"/><path d=\"M17.41 7.96l-1.37-1.37c-.4-.4-.92-.59-1.43-.59-.52 0-1.04.2-1.43.59L10.3 9.45l-7.72 7.72c-.78.78-.78 2.05 0 2.83L4 21.41c.39.39.9.59 1.41.59.51 0 1.02-.2 1.41-.59l7.78-7.78 2.81-2.81c.8-.78.8-2.07 0-2.86zM5.41 20L4 18.59l7.72-7.72 1.47 1.35L5.41 20z\"/>\n",
              "  </svg>\n",
              "      </button>\n",
              "      \n",
              "  <style>\n",
              "    .colab-df-container {\n",
              "      display:flex;\n",
              "      flex-wrap:wrap;\n",
              "      gap: 12px;\n",
              "    }\n",
              "\n",
              "    .colab-df-convert {\n",
              "      background-color: #E8F0FE;\n",
              "      border: none;\n",
              "      border-radius: 50%;\n",
              "      cursor: pointer;\n",
              "      display: none;\n",
              "      fill: #1967D2;\n",
              "      height: 32px;\n",
              "      padding: 0 0 0 0;\n",
              "      width: 32px;\n",
              "    }\n",
              "\n",
              "    .colab-df-convert:hover {\n",
              "      background-color: #E2EBFA;\n",
              "      box-shadow: 0px 1px 2px rgba(60, 64, 67, 0.3), 0px 1px 3px 1px rgba(60, 64, 67, 0.15);\n",
              "      fill: #174EA6;\n",
              "    }\n",
              "\n",
              "    [theme=dark] .colab-df-convert {\n",
              "      background-color: #3B4455;\n",
              "      fill: #D2E3FC;\n",
              "    }\n",
              "\n",
              "    [theme=dark] .colab-df-convert:hover {\n",
              "      background-color: #434B5C;\n",
              "      box-shadow: 0px 1px 3px 1px rgba(0, 0, 0, 0.15);\n",
              "      filter: drop-shadow(0px 1px 2px rgba(0, 0, 0, 0.3));\n",
              "      fill: #FFFFFF;\n",
              "    }\n",
              "  </style>\n",
              "\n",
              "      <script>\n",
              "        const buttonEl =\n",
              "          document.querySelector('#df-3abfea21-65a3-49e0-a754-de7d163c497c button.colab-df-convert');\n",
              "        buttonEl.style.display =\n",
              "          google.colab.kernel.accessAllowed ? 'block' : 'none';\n",
              "\n",
              "        async function convertToInteractive(key) {\n",
              "          const element = document.querySelector('#df-3abfea21-65a3-49e0-a754-de7d163c497c');\n",
              "          const dataTable =\n",
              "            await google.colab.kernel.invokeFunction('convertToInteractive',\n",
              "                                                     [key], {});\n",
              "          if (!dataTable) return;\n",
              "\n",
              "          const docLinkHtml = 'Like what you see? Visit the ' +\n",
              "            '<a target=\"_blank\" href=https://colab.research.google.com/notebooks/data_table.ipynb>data table notebook</a>'\n",
              "            + ' to learn more about interactive tables.';\n",
              "          element.innerHTML = '';\n",
              "          dataTable['output_type'] = 'display_data';\n",
              "          await google.colab.output.renderOutput(dataTable, element);\n",
              "          const docLink = document.createElement('div');\n",
              "          docLink.innerHTML = docLinkHtml;\n",
              "          element.appendChild(docLink);\n",
              "        }\n",
              "      </script>\n",
              "    </div>\n",
              "  </div>\n",
              "  "
            ]
          },
          "metadata": {},
          "execution_count": 26
        }
      ],
      "source": [
        "air"
      ]
    },
    {
      "cell_type": "markdown",
      "source": [
        "Однако в случе данных с долгосрочным трендом простое экспоненциальное сглаживание не позволяет добиться хороших результатов в прогнозировании. Поэтому сглаживание данных с ярко выраженным трендом и с сезонностью, выполняется с помощью двух специальных экспоненциальных методов - Холта и Холта-Уинтерса."
      ],
      "metadata": {
        "id": "fM7vJM2T9xYU"
      }
    },
    {
      "cell_type": "markdown",
      "source": [
        "Часовые пояса усложняют обработку временных данных, а с появлением персональных компьютеров таких сложностей стало несравнимо больше:\n",
        "\n",
        "*   часовые пояса определяются социоло-политически\n",
        "*   отсутсвует единый способ передачи информации о часовом поясе между разными языками програмирования или по протоколу HTTP\n",
        "*   отсутсвие единого протокола именований или определения даты начала и окончания перехода на летнее время в часовых поясах\n",
        "*   переход на летнее время в некоторых часовых поясах иногда происходит дважды в год\n",
        "\n",
        "Большинство языков программирования получают информацию о часовом поясе от операционной системы. К сожалению, встроенная функция автоматического определения даты и времени в языке Python, **datetime.now()**, не возвращает врменную метку, учитывающую часовой пояс. Отчасти это сделано преднамеренно. Некоторые решения, принятые в стандартной библиотеке, поддерживают запрет на обработку информации о часовом поясе, относящейся к модулю datetime (из-за частых изменений в нем), и обьекты datetime как с включенной информацией о часовом поясе, так и без нее. При этом сравнение обьектов времени с данными часового пояса и без них выдаст ошибку TypeError.\n",
        "\n",
        " Некоторые исследователи утверждают, что большинство программных библиотек Python написаны в предложении, что **tzinfo == None**. Несмотря на недоказуемость, скорее всего, это действительно так. Многие также сообщают о сложностях сериализации обьектов, снабженных временными метками с указанием часового пояса, поэтому, если вы планируете подвергать ей свои данные, заранее удостоверьтесь в справедливости или невозможности выполнения этой оперции(смотри подробнее:https://perma.cc/4265-4u8l)\n",
        " \n",
        " Давайте посмотрим, как обрабатываются данные часовых поясов в языке Python. Чаще всего для этой цели применяются инструменты библиотек **datetime**, **pytz** и **dateutil**. Кроме того, многие удобные функции управления обьектами с данными о часовых поясах содержатся в библиотек **Pandas** - они основаны на средствах последних двух библиотек.\n",
        "\n",
        " Ниже рассмотрены только наиболее выжные функции управления данными часовых поясов.\n",
        " \n",
        " Во-первых, функция **now()** модуля **datetime** не предоставляет информацию о часовом поясе, хотя и учитывает его при определении (правильного) времени + различие в данных в возвращаемых функциями **now()** и **utcnow()**\n",
        "\n",
        "\n",
        "\n"
      ],
      "metadata": {
        "id": "iDZRMDVcAwDF"
      }
    },
    {
      "cell_type": "code",
      "execution_count": 27,
      "metadata": {
        "colab": {
          "base_uri": "https://localhost:8080/"
        },
        "id": "kpddOeqjbWq1",
        "outputId": "d8a6b62a-56bc-4946-9392-ba81cdff8fb6"
      },
      "outputs": [
        {
          "output_type": "execute_result",
          "data": {
            "text/plain": [
              "datetime.datetime(2022, 9, 18, 6, 56, 34, 851169)"
            ]
          },
          "metadata": {},
          "execution_count": 27
        }
      ],
      "source": [
        "# 96 page\n",
        "import datetime\n",
        "datetime.datetime.utcnow()"
      ]
    },
    {
      "cell_type": "code",
      "execution_count": 28,
      "metadata": {
        "colab": {
          "base_uri": "https://localhost:8080/"
        },
        "id": "vDxs8qsQbomZ",
        "outputId": "9aebc763-3a7f-4a61-9009-4998805b555e"
      },
      "outputs": [
        {
          "output_type": "execute_result",
          "data": {
            "text/plain": [
              "datetime.datetime(2022, 9, 18, 6, 56, 35, 431183)"
            ]
          },
          "metadata": {},
          "execution_count": 28
        }
      ],
      "source": [
        "datetime.datetime.now()"
      ]
    },
    {
      "cell_type": "code",
      "execution_count": 29,
      "metadata": {
        "colab": {
          "base_uri": "https://localhost:8080/"
        },
        "id": "MKeMEJUJbrR8",
        "outputId": "7d63c844-9939-4bd2-abce-497b18e0b214"
      },
      "outputs": [
        {
          "output_type": "execute_result",
          "data": {
            "text/plain": [
              "datetime.datetime(2022, 9, 18, 6, 56, 36, 170469, tzinfo=datetime.timezone.utc)"
            ]
          },
          "metadata": {},
          "execution_count": 29
        }
      ],
      "source": [
        "datetime.datetime.now(datetime.timezone.utc)"
      ]
    },
    {
      "cell_type": "markdown",
      "source": [
        "Чтобы получить правильны резельтат, достаточно перейти к формату с указанием часового пояса, но это нестандартное поведение, Для управления часовыми поясами в языке Python создается обьект часового пояса, например **western**, представляющий тихоокеанский часовой пояс США"
      ],
      "metadata": {
        "id": "WrMo6ShmIqZe"
      }
    },
    {
      "cell_type": "code",
      "execution_count": 30,
      "metadata": {
        "colab": {
          "base_uri": "https://localhost:8080/",
          "height": 36
        },
        "id": "IHHqL7ZBb0x6",
        "outputId": "37334ba5-9fbe-46d5-fb05-2294fe437c74"
      },
      "outputs": [
        {
          "output_type": "execute_result",
          "data": {
            "text/plain": [
              "'US/Pacific'"
            ],
            "application/vnd.google.colaboratory.intrinsic+json": {
              "type": "string"
            }
          },
          "metadata": {},
          "execution_count": 30
        }
      ],
      "source": [
        "#97 page\n",
        "import pytz\n",
        "\n",
        "western = pytz.timezone('US/Pacific')\n",
        "western.zone"
      ]
    },
    {
      "cell_type": "markdown",
      "source": [
        "Впоследствии такие обьекты применяются для преобразования часового пояса в данные с помощью функиции **localize()**."
      ],
      "metadata": {
        "id": "017TiZtaIojX"
      }
    },
    {
      "cell_type": "markdown",
      "source": [
        "тут нужно вставить код или это пояснение кода, это уж тебе решать:\n",
        " \n",
        "## Python\n",
        "> API предоставляет два способа вычисления времени с учетом \n",
        "> часового пояса - ***'локализацию'*** и приведение времени к формату\n",
        "> другого часового пояса.\n",
        "> В нашем случае выполняется ***'локализацию'***"
      ],
      "metadata": {
        "id": "RSca0NNXJyiw"
      }
    },
    {
      "cell_type": "code",
      "execution_count": 31,
      "metadata": {
        "colab": {
          "base_uri": "https://localhost:8080/"
        },
        "id": "BFiSUc-ab3l_",
        "outputId": "cae369c8-552b-418e-f800-2b965e6b8fbe"
      },
      "outputs": [
        {
          "output_type": "execute_result",
          "data": {
            "text/plain": [
              "datetime.datetime(2018, 5, 15, 12, 34, tzinfo=<DstTzInfo 'US/Pacific' PDT-1 day, 17:00:00 DST>)"
            ]
          },
          "metadata": {},
          "execution_count": 31
        }
      ],
      "source": [
        "loc_dt = western.localize(datetime.datetime(2018, 5, 15, 12, 34, 0))\n",
        "loc_dt"
      ]
    },
    {
      "cell_type": "markdown",
      "source": [
        "Однако не забываейте, что передача часового пояса непосредственно в конструктор **datetime()** часто приводит к совершенно неожиданному результату."
      ],
      "metadata": {
        "id": "jcIQZYSELnQ3"
      }
    },
    {
      "cell_type": "code",
      "execution_count": 32,
      "metadata": {
        "colab": {
          "base_uri": "https://localhost:8080/"
        },
        "id": "Z57Dg_g5b_Z2",
        "outputId": "ee3b386d-584d-4704-e316-098a2bc3be79"
      },
      "outputs": [
        {
          "output_type": "execute_result",
          "data": {
            "text/plain": [
              "datetime.datetime(2018, 5, 15, 20, 34, tzinfo=<DstTzInfo 'Europe/London' BST+1:00:00 DST>)"
            ]
          },
          "metadata": {},
          "execution_count": 32
        }
      ],
      "source": [
        "london_tz = pytz.timezone('Europe/London')\n",
        "london_dt = loc_dt.astimezone(london_tz)\n",
        "london_dt"
      ]
    },
    {
      "cell_type": "code",
      "execution_count": 33,
      "metadata": {
        "colab": {
          "base_uri": "https://localhost:8080/",
          "height": 36
        },
        "id": "KsnBU9qbcCoH",
        "outputId": "4243b3a9-f7de-43dc-bfe2-8b9f3e3e5964"
      },
      "outputs": [
        {
          "output_type": "execute_result",
          "data": {
            "text/plain": [
              "'2018-05-12 12:15:00 LMT-0001'"
            ],
            "application/vnd.google.colaboratory.intrinsic+json": {
              "type": "string"
            }
          },
          "metadata": {},
          "execution_count": 33
        }
      ],
      "source": [
        "f = '%Y-%m-%d %H:%M:%S %Z%z'\n",
        "datetime.datetime(2018, 5, 12, 12, 15, 0, tzinfo = london_tz).strftime(f)"
      ]
    },
    {
      "cell_type": "markdown",
      "source": [
        "> Как подчеркивается в документации к модулю *pytz*,\n",
        "> задание параметра *tzinfo* в функции инициализации\n",
        "> datetime.datetime не всегда приводит к получению желаемого\n",
        "> результата, как в случае г. Лондона.\n",
        "> Согласно документации к библиотеке *pytz*, метод работает только\n",
        "> в данных с часовыми поясами без перехода на летнее время"
      ],
      "metadata": {
        "id": "jjVjkxaTMBiO"
      }
    },
    {
      "cell_type": "markdown",
      "source": [
        "## Python\n",
        "> Как правило, данные времени хранятся в формате UTC\n",
        "> и преобразовываются в другие форматы только при выводе\n",
        "> для изучения людьми. Кроме того, к часовым поясам часто\n",
        "> применяются арифметические операции"
      ],
      "metadata": {
        "id": "aUbPPFuwOwJI"
      }
    },
    {
      "cell_type": "code",
      "execution_count": 34,
      "metadata": {
        "colab": {
          "base_uri": "https://localhost:8080/"
        },
        "id": "j2LL_wTAcF47",
        "outputId": "53225690-986f-4b8d-dd38-88ff494edae3"
      },
      "outputs": [
        {
          "output_type": "execute_result",
          "data": {
            "text/plain": [
              "datetime.timedelta(days=1, seconds=17520)"
            ]
          },
          "metadata": {},
          "execution_count": 34
        }
      ],
      "source": [
        "event1 = datetime.datetime(2018, 5, 12, 12, 15, 0, tzinfo = london_tz)\n",
        "event2 = datetime.datetime(2018, 5, 13, 9, 15, 0, tzinfo = western)\n",
        "event2 - event1"
      ]
    },
    {
      "cell_type": "markdown",
      "source": [
        "> Разница между моментами времени определяется неправильно,\n",
        "> поскольку часовые пояса помечены не так, как нужно"
      ],
      "metadata": {
        "id": "ld3MpwjpPeq3"
      }
    },
    {
      "cell_type": "code",
      "execution_count": 35,
      "metadata": {
        "colab": {
          "base_uri": "https://localhost:8080/"
        },
        "id": "2hUTpyA_cLiF",
        "outputId": "f2f5a5d6-baeb-458f-bc62-e55a3667659b"
      },
      "outputs": [
        {
          "output_type": "execute_result",
          "data": {
            "text/plain": [
              "datetime.timedelta(days=1, seconds=18000)"
            ]
          },
          "metadata": {},
          "execution_count": 35
        }
      ],
      "source": [
        "#98 page\n",
        "event1 = london_tz.localize(datetime.datetime(2018, 5, 12, 12, 15, 0))\n",
        "event2 = western.localize(datetime.datetime(2018, 5, 13, 9, 15, 0))\n",
        "event2 - event1"
      ]
    },
    {
      "cell_type": "code",
      "execution_count": 36,
      "metadata": {
        "colab": {
          "base_uri": "https://localhost:8080/"
        },
        "id": "uvj_jftZcR3o",
        "outputId": "c9d57ee2-7f50-4ebd-fe21-001060089f0d"
      },
      "outputs": [
        {
          "output_type": "execute_result",
          "data": {
            "text/plain": [
              "datetime.timedelta(days=1, seconds=18000)"
            ]
          },
          "metadata": {},
          "execution_count": 36
        }
      ],
      "source": [
        "event1 = london_tz.localize((datetime.datetime(2018, 5, 12, 12, 15, 0))).astimezone(datetime.timezone.utc)\n",
        "event2 = western.localize(datetime.datetime(2018, 5, 13, 9, 15, 0)).astimezone(datetime.timezone.utc)\n",
        "event2 - event1"
      ]
    },
    {
      "cell_type": "markdown",
      "source": [
        "Библиотека *pytz* включает списки наиболее распространенных часовых поясов и часовых поясов разных стран мира."
      ],
      "metadata": {
        "id": "xVUmwTGsP_1I"
      }
    },
    {
      "cell_type": "markdown",
      "source": [
        "## Pyhon\n",
        "Ознакомьтесь основными часовыми поясами *pytz.common_timezones*\n",
        "> *pytz.common_timezones*\n",
        "(длинный список...)\n",
        "\n",
        "или часовыми поясами стран мира\n",
        "> *pytz.country_timezones*('RU')"
      ],
      "metadata": {
        "id": "dG1XV38mRGJf"
      }
    },
    {
      "cell_type": "code",
      "execution_count": 37,
      "metadata": {
        "colab": {
          "base_uri": "https://localhost:8080/"
        },
        "id": "MxHLHIDBcWU_",
        "outputId": "a067391b-9783-40b0-ef8f-e4f228d9c6b4"
      },
      "outputs": [
        {
          "output_type": "execute_result",
          "data": {
            "text/plain": [
              "['Africa/Abidjan', 'Africa/Accra', 'Africa/Addis_Ababa', 'Africa/Algiers', 'Africa/Asmara', 'Africa/Bamako', 'Africa/Bangui', 'Africa/Banjul', 'Africa/Bissau', 'Africa/Blantyre', 'Africa/Brazzaville', 'Africa/Bujumbura', 'Africa/Cairo', 'Africa/Casablanca', 'Africa/Ceuta', 'Africa/Conakry', 'Africa/Dakar', 'Africa/Dar_es_Salaam', 'Africa/Djibouti', 'Africa/Douala', 'Africa/El_Aaiun', 'Africa/Freetown', 'Africa/Gaborone', 'Africa/Harare', 'Africa/Johannesburg', 'Africa/Juba', 'Africa/Kampala', 'Africa/Khartoum', 'Africa/Kigali', 'Africa/Kinshasa', 'Africa/Lagos', 'Africa/Libreville', 'Africa/Lome', 'Africa/Luanda', 'Africa/Lubumbashi', 'Africa/Lusaka', 'Africa/Malabo', 'Africa/Maputo', 'Africa/Maseru', 'Africa/Mbabane', 'Africa/Mogadishu', 'Africa/Monrovia', 'Africa/Nairobi', 'Africa/Ndjamena', 'Africa/Niamey', 'Africa/Nouakchott', 'Africa/Ouagadougou', 'Africa/Porto-Novo', 'Africa/Sao_Tome', 'Africa/Tripoli', 'Africa/Tunis', 'Africa/Windhoek', 'America/Adak', 'America/Anchorage', 'America/Anguilla', 'America/Antigua', 'America/Araguaina', 'America/Argentina/Buenos_Aires', 'America/Argentina/Catamarca', 'America/Argentina/Cordoba', 'America/Argentina/Jujuy', 'America/Argentina/La_Rioja', 'America/Argentina/Mendoza', 'America/Argentina/Rio_Gallegos', 'America/Argentina/Salta', 'America/Argentina/San_Juan', 'America/Argentina/San_Luis', 'America/Argentina/Tucuman', 'America/Argentina/Ushuaia', 'America/Aruba', 'America/Asuncion', 'America/Atikokan', 'America/Bahia', 'America/Bahia_Banderas', 'America/Barbados', 'America/Belem', 'America/Belize', 'America/Blanc-Sablon', 'America/Boa_Vista', 'America/Bogota', 'America/Boise', 'America/Cambridge_Bay', 'America/Campo_Grande', 'America/Cancun', 'America/Caracas', 'America/Cayenne', 'America/Cayman', 'America/Chicago', 'America/Chihuahua', 'America/Costa_Rica', 'America/Creston', 'America/Cuiaba', 'America/Curacao', 'America/Danmarkshavn', 'America/Dawson', 'America/Dawson_Creek', 'America/Denver', 'America/Detroit', 'America/Dominica', 'America/Edmonton', 'America/Eirunepe', 'America/El_Salvador', 'America/Fort_Nelson', 'America/Fortaleza', 'America/Glace_Bay', 'America/Goose_Bay', 'America/Grand_Turk', 'America/Grenada', 'America/Guadeloupe', 'America/Guatemala', 'America/Guayaquil', 'America/Guyana', 'America/Halifax', 'America/Havana', 'America/Hermosillo', 'America/Indiana/Indianapolis', 'America/Indiana/Knox', 'America/Indiana/Marengo', 'America/Indiana/Petersburg', 'America/Indiana/Tell_City', 'America/Indiana/Vevay', 'America/Indiana/Vincennes', 'America/Indiana/Winamac', 'America/Inuvik', 'America/Iqaluit', 'America/Jamaica', 'America/Juneau', 'America/Kentucky/Louisville', 'America/Kentucky/Monticello', 'America/Kralendijk', 'America/La_Paz', 'America/Lima', 'America/Los_Angeles', 'America/Lower_Princes', 'America/Maceio', 'America/Managua', 'America/Manaus', 'America/Marigot', 'America/Martinique', 'America/Matamoros', 'America/Mazatlan', 'America/Menominee', 'America/Merida', 'America/Metlakatla', 'America/Mexico_City', 'America/Miquelon', 'America/Moncton', 'America/Monterrey', 'America/Montevideo', 'America/Montserrat', 'America/Nassau', 'America/New_York', 'America/Nipigon', 'America/Nome', 'America/Noronha', 'America/North_Dakota/Beulah', 'America/North_Dakota/Center', 'America/North_Dakota/New_Salem', 'America/Nuuk', 'America/Ojinaga', 'America/Panama', 'America/Pangnirtung', 'America/Paramaribo', 'America/Phoenix', 'America/Port-au-Prince', 'America/Port_of_Spain', 'America/Porto_Velho', 'America/Puerto_Rico', 'America/Punta_Arenas', 'America/Rainy_River', 'America/Rankin_Inlet', 'America/Recife', 'America/Regina', 'America/Resolute', 'America/Rio_Branco', 'America/Santarem', 'America/Santiago', 'America/Santo_Domingo', 'America/Sao_Paulo', 'America/Scoresbysund', 'America/Sitka', 'America/St_Barthelemy', 'America/St_Johns', 'America/St_Kitts', 'America/St_Lucia', 'America/St_Thomas', 'America/St_Vincent', 'America/Swift_Current', 'America/Tegucigalpa', 'America/Thule', 'America/Thunder_Bay', 'America/Tijuana', 'America/Toronto', 'America/Tortola', 'America/Vancouver', 'America/Whitehorse', 'America/Winnipeg', 'America/Yakutat', 'America/Yellowknife', 'Antarctica/Casey', 'Antarctica/Davis', 'Antarctica/DumontDUrville', 'Antarctica/Macquarie', 'Antarctica/Mawson', 'Antarctica/McMurdo', 'Antarctica/Palmer', 'Antarctica/Rothera', 'Antarctica/Syowa', 'Antarctica/Troll', 'Antarctica/Vostok', 'Arctic/Longyearbyen', 'Asia/Aden', 'Asia/Almaty', 'Asia/Amman', 'Asia/Anadyr', 'Asia/Aqtau', 'Asia/Aqtobe', 'Asia/Ashgabat', 'Asia/Atyrau', 'Asia/Baghdad', 'Asia/Bahrain', 'Asia/Baku', 'Asia/Bangkok', 'Asia/Barnaul', 'Asia/Beirut', 'Asia/Bishkek', 'Asia/Brunei', 'Asia/Chita', 'Asia/Choibalsan', 'Asia/Colombo', 'Asia/Damascus', 'Asia/Dhaka', 'Asia/Dili', 'Asia/Dubai', 'Asia/Dushanbe', 'Asia/Famagusta', 'Asia/Gaza', 'Asia/Hebron', 'Asia/Ho_Chi_Minh', 'Asia/Hong_Kong', 'Asia/Hovd', 'Asia/Irkutsk', 'Asia/Jakarta', 'Asia/Jayapura', 'Asia/Jerusalem', 'Asia/Kabul', 'Asia/Kamchatka', 'Asia/Karachi', 'Asia/Kathmandu', 'Asia/Khandyga', 'Asia/Kolkata', 'Asia/Krasnoyarsk', 'Asia/Kuala_Lumpur', 'Asia/Kuching', 'Asia/Kuwait', 'Asia/Macau', 'Asia/Magadan', 'Asia/Makassar', 'Asia/Manila', 'Asia/Muscat', 'Asia/Nicosia', 'Asia/Novokuznetsk', 'Asia/Novosibirsk', 'Asia/Omsk', 'Asia/Oral', 'Asia/Phnom_Penh', 'Asia/Pontianak', 'Asia/Pyongyang', 'Asia/Qatar', 'Asia/Qostanay', 'Asia/Qyzylorda', 'Asia/Riyadh', 'Asia/Sakhalin', 'Asia/Samarkand', 'Asia/Seoul', 'Asia/Shanghai', 'Asia/Singapore', 'Asia/Srednekolymsk', 'Asia/Taipei', 'Asia/Tashkent', 'Asia/Tbilisi', 'Asia/Tehran', 'Asia/Thimphu', 'Asia/Tokyo', 'Asia/Tomsk', 'Asia/Ulaanbaatar', 'Asia/Urumqi', 'Asia/Ust-Nera', 'Asia/Vientiane', 'Asia/Vladivostok', 'Asia/Yakutsk', 'Asia/Yangon', 'Asia/Yekaterinburg', 'Asia/Yerevan', 'Atlantic/Azores', 'Atlantic/Bermuda', 'Atlantic/Canary', 'Atlantic/Cape_Verde', 'Atlantic/Faroe', 'Atlantic/Madeira', 'Atlantic/Reykjavik', 'Atlantic/South_Georgia', 'Atlantic/St_Helena', 'Atlantic/Stanley', 'Australia/Adelaide', 'Australia/Brisbane', 'Australia/Broken_Hill', 'Australia/Darwin', 'Australia/Eucla', 'Australia/Hobart', 'Australia/Lindeman', 'Australia/Lord_Howe', 'Australia/Melbourne', 'Australia/Perth', 'Australia/Sydney', 'Canada/Atlantic', 'Canada/Central', 'Canada/Eastern', 'Canada/Mountain', 'Canada/Newfoundland', 'Canada/Pacific', 'Europe/Amsterdam', 'Europe/Andorra', 'Europe/Astrakhan', 'Europe/Athens', 'Europe/Belgrade', 'Europe/Berlin', 'Europe/Bratislava', 'Europe/Brussels', 'Europe/Bucharest', 'Europe/Budapest', 'Europe/Busingen', 'Europe/Chisinau', 'Europe/Copenhagen', 'Europe/Dublin', 'Europe/Gibraltar', 'Europe/Guernsey', 'Europe/Helsinki', 'Europe/Isle_of_Man', 'Europe/Istanbul', 'Europe/Jersey', 'Europe/Kaliningrad', 'Europe/Kirov', 'Europe/Kyiv', 'Europe/Lisbon', 'Europe/Ljubljana', 'Europe/London', 'Europe/Luxembourg', 'Europe/Madrid', 'Europe/Malta', 'Europe/Mariehamn', 'Europe/Minsk', 'Europe/Monaco', 'Europe/Moscow', 'Europe/Oslo', 'Europe/Paris', 'Europe/Podgorica', 'Europe/Prague', 'Europe/Riga', 'Europe/Rome', 'Europe/Samara', 'Europe/San_Marino', 'Europe/Sarajevo', 'Europe/Saratov', 'Europe/Simferopol', 'Europe/Skopje', 'Europe/Sofia', 'Europe/Stockholm', 'Europe/Tallinn', 'Europe/Tirane', 'Europe/Ulyanovsk', 'Europe/Uzhgorod', 'Europe/Vaduz', 'Europe/Vatican', 'Europe/Vienna', 'Europe/Vilnius', 'Europe/Volgograd', 'Europe/Warsaw', 'Europe/Zagreb', 'Europe/Zaporozhye', 'Europe/Zurich', 'GMT', 'Indian/Antananarivo', 'Indian/Chagos', 'Indian/Christmas', 'Indian/Cocos', 'Indian/Comoro', 'Indian/Kerguelen', 'Indian/Mahe', 'Indian/Maldives', 'Indian/Mauritius', 'Indian/Mayotte', 'Indian/Reunion', 'Pacific/Apia', 'Pacific/Auckland', 'Pacific/Bougainville', 'Pacific/Chatham', 'Pacific/Chuuk', 'Pacific/Easter', 'Pacific/Efate', 'Pacific/Fakaofo', 'Pacific/Fiji', 'Pacific/Funafuti', 'Pacific/Galapagos', 'Pacific/Gambier', 'Pacific/Guadalcanal', 'Pacific/Guam', 'Pacific/Honolulu', 'Pacific/Kanton', 'Pacific/Kiritimati', 'Pacific/Kosrae', 'Pacific/Kwajalein', 'Pacific/Majuro', 'Pacific/Marquesas', 'Pacific/Midway', 'Pacific/Nauru', 'Pacific/Niue', 'Pacific/Norfolk', 'Pacific/Noumea', 'Pacific/Pago_Pago', 'Pacific/Palau', 'Pacific/Pitcairn', 'Pacific/Pohnpei', 'Pacific/Port_Moresby', 'Pacific/Rarotonga', 'Pacific/Saipan', 'Pacific/Tahiti', 'Pacific/Tarawa', 'Pacific/Tongatapu', 'Pacific/Wake', 'Pacific/Wallis', 'US/Alaska', 'US/Arizona', 'US/Central', 'US/Eastern', 'US/Hawaii', 'US/Mountain', 'US/Pacific', 'UTC']"
            ]
          },
          "metadata": {},
          "execution_count": 37
        }
      ],
      "source": [
        "pytz.common_timezones"
      ]
    },
    {
      "cell_type": "code",
      "execution_count": 38,
      "metadata": {
        "colab": {
          "base_uri": "https://localhost:8080/"
        },
        "id": "vWbh-LhUcY_T",
        "outputId": "e4c9c838-9300-47eb-8266-169ad818b242"
      },
      "outputs": [
        {
          "output_type": "execute_result",
          "data": {
            "text/plain": [
              "['Europe/Kaliningrad',\n",
              " 'Europe/Moscow',\n",
              " 'Europe/Kirov',\n",
              " 'Europe/Volgograd',\n",
              " 'Europe/Astrakhan',\n",
              " 'Europe/Saratov',\n",
              " 'Europe/Ulyanovsk',\n",
              " 'Europe/Samara',\n",
              " 'Asia/Yekaterinburg',\n",
              " 'Asia/Omsk',\n",
              " 'Asia/Novosibirsk',\n",
              " 'Asia/Barnaul',\n",
              " 'Asia/Tomsk',\n",
              " 'Asia/Novokuznetsk',\n",
              " 'Asia/Krasnoyarsk',\n",
              " 'Asia/Irkutsk',\n",
              " 'Asia/Chita',\n",
              " 'Asia/Yakutsk',\n",
              " 'Asia/Khandyga',\n",
              " 'Asia/Vladivostok',\n",
              " 'Asia/Ust-Nera',\n",
              " 'Asia/Magadan',\n",
              " 'Asia/Sakhalin',\n",
              " 'Asia/Srednekolymsk',\n",
              " 'Asia/Kamchatka',\n",
              " 'Asia/Anadyr']"
            ]
          },
          "metadata": {},
          "execution_count": 38
        }
      ],
      "source": [
        "pytz.country_timezones('RU')"
      ]
    },
    {
      "cell_type": "markdown",
      "source": [
        "> *pytz.country_timezones('fr')*\n",
        "> ('Europe/Paris'))"
      ],
      "metadata": {
        "id": "mOfXF7PiR0se"
      }
    },
    {
      "cell_type": "code",
      "execution_count": 39,
      "metadata": {
        "colab": {
          "base_uri": "https://localhost:8080/"
        },
        "id": "k01WI6P3che0",
        "outputId": "684e2eff-fc18-44ac-a915-a11f8afdca4f"
      },
      "outputs": [
        {
          "output_type": "execute_result",
          "data": {
            "text/plain": [
              "['Europe/Paris']"
            ]
          },
          "metadata": {},
          "execution_count": 39
        }
      ],
      "source": [
        "pytz.country_timezones('fr')"
      ]
    },
    {
      "cell_type": "markdown",
      "source": [
        "Особенно проблематичным является вопрос учета летнего времени. Некоторые используемые человечеством форматы времени учитываются компьютером дважды ( возврат к 'зимнему' времени осенью), тогда как другие вообще не учитываются (перевод времени вперед весной)."
      ],
      "metadata": {
        "id": "45eQb36rQYhx"
      }
    },
    {
      "cell_type": "markdown",
      "source": [
        "## Python\n",
        "> Часовые пояса"
      ],
      "metadata": {
        "id": "XGx2xdzqQ7k2"
      }
    },
    {
      "cell_type": "code",
      "execution_count": 40,
      "metadata": {
        "id": "_8EklPWdckxA"
      },
      "outputs": [],
      "source": [
        "ambig_time = western.localize(datetime.datetime(2002, 10, 27, 1, 30, 00)).astimezone(datetime.timezone.utc)\n",
        "ambig_time_earlier = ambig_time - datetime.timedelta(hours=1)\n",
        "ambig_time_later = ambig_time + datetime.timedelta(hours=1)"
      ]
    },
    {
      "cell_type": "markdown",
      "source": [
        "# Вывод результатов"
      ],
      "metadata": {
        "id": "LKcBH8lRSNSO"
      }
    },
    {
      "cell_type": "code",
      "execution_count": 41,
      "metadata": {
        "colab": {
          "base_uri": "https://localhost:8080/"
        },
        "id": "zgyqmELkcw-E",
        "outputId": "caa83fb3-d495-4fce-ffac-7609d8939319"
      },
      "outputs": [
        {
          "output_type": "execute_result",
          "data": {
            "text/plain": [
              "datetime.datetime(2002, 10, 27, 1, 30, tzinfo=<DstTzInfo 'US/Pacific' PDT-1 day, 17:00:00 DST>)"
            ]
          },
          "metadata": {},
          "execution_count": 41
        }
      ],
      "source": [
        "#99 page\n",
        "ambig_time_earlier.astimezone(western)"
      ]
    },
    {
      "cell_type": "code",
      "execution_count": 42,
      "metadata": {
        "colab": {
          "base_uri": "https://localhost:8080/"
        },
        "id": "-cBH3trIc2mp",
        "outputId": "b5d0dcda-45ec-4e1e-d2a0-18f6b377e793"
      },
      "outputs": [
        {
          "output_type": "execute_result",
          "data": {
            "text/plain": [
              "datetime.datetime(2002, 10, 27, 1, 30, tzinfo=<DstTzInfo 'US/Pacific' PST-1 day, 16:00:00 STD>)"
            ]
          },
          "metadata": {},
          "execution_count": 42
        }
      ],
      "source": [
        "ambig_time.astimezone(western)"
      ]
    },
    {
      "cell_type": "markdown",
      "source": [
        "> # Последние две временные метки идентичны - это недопустимо!\n",
        "\n",
        ">> В данном случае необходимо использовать параметр *is_dst*, чтобы\n",
        ">> обозначить переход на летнее время"
      ],
      "metadata": {
        "id": "h-kxaW1VSYgd"
      }
    },
    {
      "cell_type": "code",
      "execution_count": 43,
      "metadata": {
        "colab": {
          "base_uri": "https://localhost:8080/"
        },
        "id": "HatsDfkGc4sy",
        "outputId": "99b92881-8d5c-4e1d-fc64-93aabcbbb06b"
      },
      "outputs": [
        {
          "output_type": "execute_result",
          "data": {
            "text/plain": [
              "datetime.datetime(2002, 10, 27, 2, 30, tzinfo=<DstTzInfo 'US/Pacific' PST-1 day, 16:00:00 STD>)"
            ]
          },
          "metadata": {},
          "execution_count": 43
        }
      ],
      "source": [
        "ambig_time_later.astimezone(western)"
      ]
    },
    {
      "cell_type": "code",
      "execution_count": 44,
      "metadata": {
        "id": "exrXz6A3c67n"
      },
      "outputs": [],
      "source": [
        "ambig_time = western.localize(datetime.datetime(2002, 10, 27, 1, 30, 00), is_dst = True).astimezone(datetime.timezone.utc)\n",
        "ambig_time_earlier = ambig_time - datetime.timedelta(hours=1)\n",
        "ambig_time_later = ambig_time + datetime.timedelta(hours=1)"
      ]
    },
    {
      "cell_type": "code",
      "execution_count": 45,
      "metadata": {
        "colab": {
          "base_uri": "https://localhost:8080/"
        },
        "id": "kU3EL0FRc_K5",
        "outputId": "95b57897-1126-43a2-ee06-c3838a12e469"
      },
      "outputs": [
        {
          "output_type": "execute_result",
          "data": {
            "text/plain": [
              "datetime.datetime(2002, 10, 27, 0, 30, tzinfo=<DstTzInfo 'US/Pacific' PDT-1 day, 17:00:00 DST>)"
            ]
          },
          "metadata": {},
          "execution_count": 45
        }
      ],
      "source": [
        "ambig_time_earlier.astimezone(western)"
      ]
    },
    {
      "cell_type": "code",
      "execution_count": 46,
      "metadata": {
        "colab": {
          "base_uri": "https://localhost:8080/"
        },
        "id": "sThG3aZodAdL",
        "outputId": "333ffacc-b897-4566-c9b9-0f4686e4b75e"
      },
      "outputs": [
        {
          "output_type": "execute_result",
          "data": {
            "text/plain": [
              "datetime.datetime(2002, 10, 27, 1, 30, tzinfo=<DstTzInfo 'US/Pacific' PDT-1 day, 17:00:00 DST>)"
            ]
          },
          "metadata": {},
          "execution_count": 46
        }
      ],
      "source": [
        "ambig_time.astimezone(western)"
      ]
    },
    {
      "cell_type": "code",
      "execution_count": 47,
      "metadata": {
        "colab": {
          "base_uri": "https://localhost:8080/"
        },
        "id": "1UqB8wTYdD6k",
        "outputId": "6db8860c-4585-4b2f-8862-77d141cd204f"
      },
      "outputs": [
        {
          "output_type": "execute_result",
          "data": {
            "text/plain": [
              "datetime.datetime(2002, 10, 27, 1, 30, tzinfo=<DstTzInfo 'US/Pacific' PST-1 day, 16:00:00 STD>)"
            ]
          },
          "metadata": {},
          "execution_count": 47
        }
      ],
      "source": [
        "ambig_time_later.astimezone(western)"
      ]
    },
    {
      "cell_type": "markdown",
      "source": [
        "## Повторяющиеся временные метки отсутствуют, по крайней мере до момента учета "
      ],
      "metadata": {
        "id": "vmF0kB0YS8TK"
      }
    },
    {
      "cell_type": "markdown",
      "source": [
        "Трудности учета часового пояса могут не касаться решаемых вами задач, поэтому полезность приведенных выше сведений будет зависеть от характера обрабатываемых данных. Безусловно, существуют ситуации, в которых ошибка равнозначна катастрофе (скажем, экипажу дальномагистрального авиалайнера, который совершает рейс, проходящий точку перехода на летнее время, будет крайне неприятно осознавать, что в переданном прогнозе погоды такое событие никак не учитывается).\n"
      ],
      "metadata": {
        "id": "e2sRZzMWTPIn"
      }
    }
  ],
  "metadata": {
    "colab": {
      "provenance": [],
      "collapsed_sections": [],
      "include_colab_link": true
    },
    "kernelspec": {
      "display_name": "Python 3.9.7 64-bit",
      "language": "python",
      "name": "python3"
    },
    "language_info": {
      "codemirror_mode": {
        "name": "ipython",
        "version": 3
      },
      "file_extension": ".py",
      "mimetype": "text/x-python",
      "name": "python",
      "nbconvert_exporter": "python",
      "pygments_lexer": "ipython3",
      "version": "3.9.7"
    },
    "vscode": {
      "interpreter": {
        "hash": "c347c8f9a7ef94e4c9e03b4513be7835ed18f45b99a2a817fb579f408b867b16"
      }
    }
  },
  "nbformat": 4,
  "nbformat_minor": 0
}